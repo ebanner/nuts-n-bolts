{
 "cells": [
  {
   "cell_type": "markdown",
   "metadata": {},
   "source": [
    "# LSTM Plus Attention"
   ]
  },
  {
   "cell_type": "code",
   "execution_count": 1,
   "metadata": {
    "collapsed": false
   },
   "outputs": [
    {
     "name": "stderr",
     "output_type": "stream",
     "text": [
      "Using Theano backend.\n"
     ]
    }
   ],
   "source": [
    "from keras.engine.topology import Layer\n",
    "\n",
    "class EatMask(Layer):\n",
    "    def __init__(self, **kwargs):\n",
    "        super(EatMask, self).__init__(**kwargs)\n",
    "\n",
    "    def call(self, x, mask=None):\n",
    "        return x\n",
    "\n",
    "    def get_output_shape_for(self, input_shape):\n",
    "        return input_shape\n",
    "    \n",
    "    def compute_mask(self, x, mask):\n",
    "        return None"
   ]
  },
  {
   "cell_type": "code",
   "execution_count": 17,
   "metadata": {
    "collapsed": false
   },
   "outputs": [
    {
     "name": "stdout",
     "output_type": "stream",
     "text": [
      "____________________________________________________________________________________________________\n",
      "Layer (type)                     Output Shape          Param #     Connected to                     \n",
      "====================================================================================================\n",
      "input_6 (InputLayer)             (None, 12)            0                                            \n",
      "____________________________________________________________________________________________________\n",
      "embedding_5 (Embedding)          (None, 12, 5)         50          input_6[0][0]                    \n",
      "____________________________________________________________________________________________________\n",
      "activations (SimpleRNN)          (None, 12, 16)        352         embedding_5[0][0]                \n",
      "____________________________________________________________________________________________________\n",
      "eatmask_5 (EatMask)              (None, 12, 16)        0           activations[0][0]                \n",
      "____________________________________________________________________________________________________\n",
      "td (TimeDistributed)             (None, 12, 1)         17          eatmask_5[0][0]                  \n",
      "____________________________________________________________________________________________________\n",
      "reshape_5 (Reshape)              (None, 12)            0           td[0][0]                         \n",
      "____________________________________________________________________________________________________\n",
      "softmax (Activation)             (None, 12)            0           reshape_5[0][0]                  \n",
      "____________________________________________________________________________________________________\n",
      "repeatvector_5 (RepeatVector)    (None, 16, 12)        0           softmax[0][0]                    \n",
      "____________________________________________________________________________________________________\n",
      "permute_5 (Permute)              (None, 12, 16)        0           repeatvector_5[0][0]             \n",
      "____________________________________________________________________________________________________\n",
      "merge_5 (Merge)                  (None, 12, 16)        0           eatmask_5[0][0]                  \n",
      "                                                                   permute_5[0][0]                  \n",
      "____________________________________________________________________________________________________\n",
      "averagepooling1d_5 (AveragePoolin(None, 1, 16)         0           merge_5[0][0]                    \n",
      "____________________________________________________________________________________________________\n",
      "flatten_5 (Flatten)              (None, 16)            0           averagepooling1d_5[0][0]         \n",
      "____________________________________________________________________________________________________\n",
      "dense_10 (Dense)                 (None, 2)             34          flatten_5[0][0]                  \n",
      "====================================================================================================\n",
      "Total params: 453\n",
      "____________________________________________________________________________________________________\n"
     ]
    }
   ],
   "source": [
    "from keras.layers import Input, Embedding, Dense, SimpleRNN, merge, Activation, Permute, Reshape, Lambda\n",
    "from keras.layers import Convolution1D, MaxPooling1D, Flatten, TimeDistributed, RepeatVector\n",
    "from keras.layers.convolutional import AveragePooling1D\n",
    "from keras.models import Model\n",
    "\n",
    "max_doclen = 12\n",
    "word_dim, vocab_size = 5, 10\n",
    "\n",
    "nb_class = 2\n",
    "\n",
    "input = Input(shape=[max_doclen], dtype='int32')\n",
    "\n",
    "# embedding\n",
    "embedded = Embedding(output_dim=word_dim,\n",
    "                     input_dim=vocab_size,\n",
    "                     input_length=max_doclen,\n",
    "                     mask_zero=True,\n",
    "                     weights=None)(input)\n",
    "\n",
    "# lstm the document\n",
    "activations = SimpleRNN(16, return_sequences=True, name='activations')(embedded)\n",
    "activations = EatMask()(activations)\n",
    "\n",
    "# attention mask\n",
    "mask = TimeDistributed(Dense(1), name='td')(activations)\n",
    "mask = Reshape([max_doclen])(mask)\n",
    "mask = Activation('softmax', name='softmax')(mask)\n",
    "mask = RepeatVector(16)(mask)\n",
    "mask = Permute([2, 1])(mask)\n",
    "\n",
    "# apply mask\n",
    "activations = merge([activations, mask], mode='mul')\n",
    "activations = AveragePooling1D(pool_length=max_doclen)(activations)\n",
    "activations = Flatten()(activations)\n",
    "\n",
    "probas = Dense(nb_class, activation='softmax')(activations)\n",
    "\n",
    "# compile\n",
    "model = Model(input=input, output=probas)\n",
    "model.compile(optimizer='adam', loss='categorical_crossentropy', metrics=['accuracy'])\n",
    "\n",
    "model.summary()"
   ]
  },
  {
   "cell_type": "code",
   "execution_count": 3,
   "metadata": {
    "collapsed": false
   },
   "outputs": [
    {
     "data": {
      "image/svg+xml": [
       "<svg height=\"921pt\" viewBox=\"0.00 0.00 329.79 921.00\" width=\"330pt\" xmlns=\"http://www.w3.org/2000/svg\" xmlns:xlink=\"http://www.w3.org/1999/xlink\">\n",
       "<g class=\"graph\" id=\"graph0\" transform=\"scale(1 1) rotate(0) translate(4 917)\">\n",
       "<title>G</title>\n",
       "<polygon fill=\"white\" points=\"-4,4 -4,-917 325.788,-917 325.788,4 -4,4\" stroke=\"none\"/>\n",
       "<!-- 4555845520 -->\n",
       "<g class=\"node\" id=\"node1\"><title>4555845520</title>\n",
       "<polygon fill=\"none\" points=\"118.617,-876.5 118.617,-912.5 246.979,-912.5 246.979,-876.5 118.617,-876.5\" stroke=\"black\"/>\n",
       "<text font-family=\"Times,serif\" font-size=\"14.00\" text-anchor=\"middle\" x=\"182.798\" y=\"-890.3\">input_1: InputLayer</text>\n",
       "</g>\n",
       "<!-- 4555845584 -->\n",
       "<g class=\"node\" id=\"node2\"><title>4555845584</title>\n",
       "<polygon fill=\"none\" points=\"100.728,-803.5 100.728,-839.5 264.869,-839.5 264.869,-803.5 100.728,-803.5\" stroke=\"black\"/>\n",
       "<text font-family=\"Times,serif\" font-size=\"14.00\" text-anchor=\"middle\" x=\"182.798\" y=\"-817.3\">embedding_1: Embedding</text>\n",
       "</g>\n",
       "<!-- 4555845520&#45;&gt;4555845584 -->\n",
       "<g class=\"edge\" id=\"edge1\"><title>4555845520-&gt;4555845584</title>\n",
       "<path d=\"M182.798,-876.313C182.798,-868.289 182.798,-858.547 182.798,-849.569\" fill=\"none\" stroke=\"black\"/>\n",
       "<polygon fill=\"black\" points=\"186.298,-849.529 182.798,-839.529 179.298,-849.529 186.298,-849.529\" stroke=\"black\"/>\n",
       "</g>\n",
       "<!-- 4556072144 -->\n",
       "<g class=\"node\" id=\"node3\"><title>4556072144</title>\n",
       "<polygon fill=\"none\" points=\"133.376,-730.5 133.376,-766.5 232.221,-766.5 232.221,-730.5 133.376,-730.5\" stroke=\"black\"/>\n",
       "<text font-family=\"Times,serif\" font-size=\"14.00\" text-anchor=\"middle\" x=\"182.798\" y=\"-744.3\">lstm_1: LSTM</text>\n",
       "</g>\n",
       "<!-- 4555845584&#45;&gt;4556072144 -->\n",
       "<g class=\"edge\" id=\"edge2\"><title>4555845584-&gt;4556072144</title>\n",
       "<path d=\"M182.798,-803.313C182.798,-795.289 182.798,-785.547 182.798,-776.569\" fill=\"none\" stroke=\"black\"/>\n",
       "<polygon fill=\"black\" points=\"186.298,-776.529 182.798,-766.529 179.298,-776.529 186.298,-776.529\" stroke=\"black\"/>\n",
       "</g>\n",
       "<!-- 4557101904 -->\n",
       "<g class=\"node\" id=\"node4\"><title>4557101904</title>\n",
       "<polygon fill=\"none\" points=\"116.286,-657.5 116.286,-693.5 249.311,-693.5 249.311,-657.5 116.286,-657.5\" stroke=\"black\"/>\n",
       "<text font-family=\"Times,serif\" font-size=\"14.00\" text-anchor=\"middle\" x=\"182.798\" y=\"-671.3\">eatmask_1: EatMask</text>\n",
       "</g>\n",
       "<!-- 4556072144&#45;&gt;4557101904 -->\n",
       "<g class=\"edge\" id=\"edge3\"><title>4556072144-&gt;4557101904</title>\n",
       "<path d=\"M182.798,-730.313C182.798,-722.289 182.798,-712.547 182.798,-703.569\" fill=\"none\" stroke=\"black\"/>\n",
       "<polygon fill=\"black\" points=\"186.298,-703.529 182.798,-693.529 179.298,-703.529 186.298,-703.529\" stroke=\"black\"/>\n",
       "</g>\n",
       "<!-- 4561773456 -->\n",
       "<g class=\"node\" id=\"node5\"><title>4561773456</title>\n",
       "<polygon fill=\"none\" points=\"0,-584.5 0,-620.5 225.597,-620.5 225.597,-584.5 0,-584.5\" stroke=\"black\"/>\n",
       "<text font-family=\"Times,serif\" font-size=\"14.00\" text-anchor=\"middle\" x=\"112.798\" y=\"-598.3\">td(dense_1): TimeDistributed(Dense)</text>\n",
       "</g>\n",
       "<!-- 4557101904&#45;&gt;4561773456 -->\n",
       "<g class=\"edge\" id=\"edge4\"><title>4557101904-&gt;4561773456</title>\n",
       "<path d=\"M165.853,-657.313C157.083,-648.417 146.23,-637.409 136.63,-627.672\" fill=\"none\" stroke=\"black\"/>\n",
       "<polygon fill=\"black\" points=\"139.1,-625.193 129.587,-620.529 134.116,-630.107 139.1,-625.193\" stroke=\"black\"/>\n",
       "</g>\n",
       "<!-- 4562143312 -->\n",
       "<g class=\"node\" id=\"node10\"><title>4562143312</title>\n",
       "<polygon fill=\"none\" points=\"145.591,-219.5 145.591,-255.5 254.006,-255.5 254.006,-219.5 145.591,-219.5\" stroke=\"black\"/>\n",
       "<text font-family=\"Times,serif\" font-size=\"14.00\" text-anchor=\"middle\" x=\"199.798\" y=\"-233.3\">merge_1: Merge</text>\n",
       "</g>\n",
       "<!-- 4557101904&#45;&gt;4562143312 -->\n",
       "<g class=\"edge\" id=\"edge9\"><title>4557101904-&gt;4562143312</title>\n",
       "<path d=\"M204.523,-657.337C215.217,-647.754 227.375,-634.95 234.798,-621 254.107,-584.719 253.798,-571.599 253.798,-530.5 253.798,-530.5 253.798,-530.5 253.798,-382.5 253.798,-339.081 232.009,-292.718 216.112,-264.672\" fill=\"none\" stroke=\"black\"/>\n",
       "<polygon fill=\"black\" points=\"219.052,-262.764 210.987,-255.893 213.006,-266.294 219.052,-262.764\" stroke=\"black\"/>\n",
       "</g>\n",
       "<!-- 4561773328 -->\n",
       "<g class=\"node\" id=\"node6\"><title>4561773328</title>\n",
       "<polygon fill=\"none\" points=\"52.0137,-511.5 52.0137,-547.5 179.583,-547.5 179.583,-511.5 52.0137,-511.5\" stroke=\"black\"/>\n",
       "<text font-family=\"Times,serif\" font-size=\"14.00\" text-anchor=\"middle\" x=\"115.798\" y=\"-525.3\">reshape_1: Reshape</text>\n",
       "</g>\n",
       "<!-- 4561773456&#45;&gt;4561773328 -->\n",
       "<g class=\"edge\" id=\"edge5\"><title>4561773456-&gt;4561773328</title>\n",
       "<path d=\"M113.525,-584.313C113.864,-576.289 114.275,-566.547 114.655,-557.569\" fill=\"none\" stroke=\"black\"/>\n",
       "<polygon fill=\"black\" points=\"118.153,-557.668 115.079,-547.529 111.16,-557.372 118.153,-557.668\" stroke=\"black\"/>\n",
       "</g>\n",
       "<!-- 4561897296 -->\n",
       "<g class=\"node\" id=\"node7\"><title>4561897296</title>\n",
       "<polygon fill=\"none\" points=\"63.3862,-438.5 63.3862,-474.5 190.21,-474.5 190.21,-438.5 63.3862,-438.5\" stroke=\"black\"/>\n",
       "<text font-family=\"Times,serif\" font-size=\"14.00\" text-anchor=\"middle\" x=\"126.798\" y=\"-452.3\">softmax: Activation</text>\n",
       "</g>\n",
       "<!-- 4561773328&#45;&gt;4561897296 -->\n",
       "<g class=\"edge\" id=\"edge6\"><title>4561773328-&gt;4561897296</title>\n",
       "<path d=\"M118.461,-511.313C119.704,-503.289 121.214,-493.547 122.605,-484.569\" fill=\"none\" stroke=\"black\"/>\n",
       "<polygon fill=\"black\" points=\"126.088,-484.947 124.16,-474.529 119.17,-483.875 126.088,-484.947\" stroke=\"black\"/>\n",
       "</g>\n",
       "<!-- 4561898128 -->\n",
       "<g class=\"node\" id=\"node8\"><title>4561898128</title>\n",
       "<polygon fill=\"none\" points=\"40.8135,-365.5 40.8135,-401.5 222.783,-401.5 222.783,-365.5 40.8135,-365.5\" stroke=\"black\"/>\n",
       "<text font-family=\"Times,serif\" font-size=\"14.00\" text-anchor=\"middle\" x=\"131.798\" y=\"-379.3\">repeatvector_1: RepeatVector</text>\n",
       "</g>\n",
       "<!-- 4561897296&#45;&gt;4561898128 -->\n",
       "<g class=\"edge\" id=\"edge7\"><title>4561897296-&gt;4561898128</title>\n",
       "<path d=\"M128.009,-438.313C128.574,-430.289 129.26,-420.547 129.892,-411.569\" fill=\"none\" stroke=\"black\"/>\n",
       "<polygon fill=\"black\" points=\"133.388,-411.75 130.599,-401.529 126.405,-411.258 133.388,-411.75\" stroke=\"black\"/>\n",
       "</g>\n",
       "<!-- 4562069776 -->\n",
       "<g class=\"node\" id=\"node9\"><title>4562069776</title>\n",
       "<polygon fill=\"none\" points=\"81.8413,-292.5 81.8413,-328.5 211.755,-328.5 211.755,-292.5 81.8413,-292.5\" stroke=\"black\"/>\n",
       "<text font-family=\"Times,serif\" font-size=\"14.00\" text-anchor=\"middle\" x=\"146.798\" y=\"-306.3\">permute_1: Permute</text>\n",
       "</g>\n",
       "<!-- 4561898128&#45;&gt;4562069776 -->\n",
       "<g class=\"edge\" id=\"edge8\"><title>4561898128-&gt;4562069776</title>\n",
       "<path d=\"M135.429,-365.313C137.125,-357.289 139.183,-347.547 141.08,-338.569\" fill=\"none\" stroke=\"black\"/>\n",
       "<polygon fill=\"black\" points=\"144.558,-339.036 143.201,-328.529 137.709,-337.589 144.558,-339.036\" stroke=\"black\"/>\n",
       "</g>\n",
       "<!-- 4562069776&#45;&gt;4562143312 -->\n",
       "<g class=\"edge\" id=\"edge10\"><title>4562069776-&gt;4562143312</title>\n",
       "<path d=\"M159.628,-292.313C166.008,-283.766 173.844,-273.269 180.895,-263.823\" fill=\"none\" stroke=\"black\"/>\n",
       "<polygon fill=\"black\" points=\"183.909,-265.636 187.087,-255.529 178.3,-261.449 183.909,-265.636\" stroke=\"black\"/>\n",
       "</g>\n",
       "<!-- 4562143824 -->\n",
       "<g class=\"node\" id=\"node11\"><title>4562143824</title>\n",
       "<polygon fill=\"none\" points=\"77.8091,-146.5 77.8091,-182.5 321.788,-182.5 321.788,-146.5 77.8091,-146.5\" stroke=\"black\"/>\n",
       "<text font-family=\"Times,serif\" font-size=\"14.00\" text-anchor=\"middle\" x=\"199.798\" y=\"-160.3\">averagepooling1d_1: AveragePooling1D</text>\n",
       "</g>\n",
       "<!-- 4562143312&#45;&gt;4562143824 -->\n",
       "<g class=\"edge\" id=\"edge11\"><title>4562143312-&gt;4562143824</title>\n",
       "<path d=\"M199.798,-219.313C199.798,-211.289 199.798,-201.547 199.798,-192.569\" fill=\"none\" stroke=\"black\"/>\n",
       "<polygon fill=\"black\" points=\"203.298,-192.529 199.798,-182.529 196.298,-192.529 203.298,-192.529\" stroke=\"black\"/>\n",
       "</g>\n",
       "<!-- 4562144848 -->\n",
       "<g class=\"node\" id=\"node12\"><title>4562144848</title>\n",
       "<polygon fill=\"none\" points=\"144.166,-73.5 144.166,-109.5 255.431,-109.5 255.431,-73.5 144.166,-73.5\" stroke=\"black\"/>\n",
       "<text font-family=\"Times,serif\" font-size=\"14.00\" text-anchor=\"middle\" x=\"199.798\" y=\"-87.3\">flatten_1: Flatten</text>\n",
       "</g>\n",
       "<!-- 4562143824&#45;&gt;4562144848 -->\n",
       "<g class=\"edge\" id=\"edge12\"><title>4562143824-&gt;4562144848</title>\n",
       "<path d=\"M199.798,-146.313C199.798,-138.289 199.798,-128.547 199.798,-119.569\" fill=\"none\" stroke=\"black\"/>\n",
       "<polygon fill=\"black\" points=\"203.298,-119.529 199.798,-109.529 196.298,-119.529 203.298,-119.529\" stroke=\"black\"/>\n",
       "</g>\n",
       "<!-- 4562414992 -->\n",
       "<g class=\"node\" id=\"node13\"><title>4562414992</title>\n",
       "<polygon fill=\"none\" points=\"147.672,-0.5 147.672,-36.5 251.924,-36.5 251.924,-0.5 147.672,-0.5\" stroke=\"black\"/>\n",
       "<text font-family=\"Times,serif\" font-size=\"14.00\" text-anchor=\"middle\" x=\"199.798\" y=\"-14.3\">dense_2: Dense</text>\n",
       "</g>\n",
       "<!-- 4562144848&#45;&gt;4562414992 -->\n",
       "<g class=\"edge\" id=\"edge13\"><title>4562144848-&gt;4562414992</title>\n",
       "<path d=\"M199.798,-73.3129C199.798,-65.2895 199.798,-55.5475 199.798,-46.5691\" fill=\"none\" stroke=\"black\"/>\n",
       "<polygon fill=\"black\" points=\"203.298,-46.5288 199.798,-36.5288 196.298,-46.5289 203.298,-46.5288\" stroke=\"black\"/>\n",
       "</g>\n",
       "</g>\n",
       "</svg>"
      ],
      "text/plain": [
       "<IPython.core.display.SVG object>"
      ]
     },
     "execution_count": 3,
     "metadata": {},
     "output_type": "execute_result"
    }
   ],
   "source": [
    "from IPython.display import SVG\n",
    "from keras.utils.visualize_util import model_to_dot\n",
    "\n",
    "SVG(model_to_dot(model).create(prog='dot', format='svg'))"
   ]
  },
  {
   "cell_type": "code",
   "execution_count": 4,
   "metadata": {
    "collapsed": false,
    "scrolled": true
   },
   "outputs": [],
   "source": [
    "from keras.utils.np_utils import to_categorical\n",
    "\n",
    "X_train = np.array([[0, 0, 0, 2, 4, 2, 3, 1, 2, 3, 2, 1],\n",
    "                    [0, 2, 1, 2, 4, 2, 3, 1, 2, 3, 2, 1]])\n",
    "y = to_categorical([1, 0])\n",
    "\n",
    "# model.fit(X_train, y)"
   ]
  },
  {
   "cell_type": "code",
   "execution_count": 20,
   "metadata": {
    "collapsed": false
   },
   "outputs": [],
   "source": [
    "import keras.backend as K\n",
    "\n",
    "f = K.function(inputs=model.inputs, outputs=[model.get_layer('activations').output, model.get_layer('softmax').output])"
   ]
  },
  {
   "cell_type": "code",
   "execution_count": 21,
   "metadata": {
    "collapsed": false
   },
   "outputs": [
    {
     "data": {
      "text/plain": [
       "[array([[[ 0.        ,  0.        ,  0.        ,  0.        ,  0.        ,\n",
       "           0.        ,  0.        ,  0.        ,  0.        ,  0.        ,\n",
       "           0.        ,  0.        ,  0.        ,  0.        ,  0.        ,\n",
       "           0.        ],\n",
       "         [ 0.        ,  0.        ,  0.        ,  0.        ,  0.        ,\n",
       "           0.        ,  0.        ,  0.        ,  0.        ,  0.        ,\n",
       "           0.        ,  0.        ,  0.        ,  0.        ,  0.        ,\n",
       "           0.        ],\n",
       "         [ 0.        ,  0.        ,  0.        ,  0.        ,  0.        ,\n",
       "           0.        ,  0.        ,  0.        ,  0.        ,  0.        ,\n",
       "           0.        ,  0.        ,  0.        ,  0.        ,  0.        ,\n",
       "           0.        ],\n",
       "         [-0.03216095,  0.00667053, -0.01970632,  0.01463582,  0.0255296 ,\n",
       "          -0.01704883,  0.0106651 , -0.02896355,  0.02593829,  0.03794508,\n",
       "           0.01217334, -0.03668317,  0.01834284, -0.02639282,  0.03017639,\n",
       "           0.00420537],\n",
       "         [ 0.01040783, -0.00636653, -0.00634638,  0.0263332 , -0.03608188,\n",
       "           0.01777318, -0.03843671, -0.05099826,  0.01836228, -0.036285  ,\n",
       "          -0.05485386,  0.00729655, -0.05467218,  0.00504282, -0.00453109,\n",
       "           0.00113959],\n",
       "         [ 0.03949758,  0.02697129, -0.02181405, -0.02916793,  0.04066879,\n",
       "          -0.05880281, -0.02531603,  0.0093105 , -0.00854779,  0.00565579,\n",
       "           0.0310456 , -0.05265633,  0.0556648 , -0.00479624,  0.03969495,\n",
       "          -0.01380521],\n",
       "         [-0.06022739,  0.03446743,  0.02606659,  0.02905182, -0.01004566,\n",
       "          -0.01252206,  0.00057188,  0.01123794, -0.01663635, -0.01260707,\n",
       "          -0.06031735, -0.03312884,  0.02669843, -0.08214404, -0.03181377,\n",
       "           0.00420338],\n",
       "         [ 0.081719  ,  0.02367857,  0.04613181,  0.00774424,  0.00868893,\n",
       "          -0.05681308, -0.03537346, -0.02374852, -0.00304459, -0.01471466,\n",
       "          -0.05220398, -0.05035951, -0.12869915, -0.00742274,  0.01303717,\n",
       "           0.02480534],\n",
       "         [-0.02720247,  0.04504108, -0.05072431,  0.02147388, -0.04913484,\n",
       "          -0.09322209, -0.01790089, -0.01258469, -0.0603345 , -0.03446481,\n",
       "          -0.01554177, -0.10907117,  0.09052959, -0.04775406,  0.08711022,\n",
       "          -0.04610084],\n",
       "         [ 0.01729276,  0.03463474,  0.10828751, -0.06086176, -0.06093107,\n",
       "           0.02411015, -0.0709597 ,  0.03546623, -0.02332837,  0.0175372 ,\n",
       "          -0.12234732, -0.01770304, -0.00467596, -0.14132868, -0.05395692,\n",
       "           0.02145665],\n",
       "         [-0.00054988,  0.06530404,  0.08523315,  0.05187298,  0.06486942,\n",
       "          -0.09340739,  0.04326976,  0.05670575, -0.06003719,  0.04231837,\n",
       "          -0.099409  , -0.10171465, -0.0811931 ,  0.00046387,  0.13738228,\n",
       "          -0.0380529 ],\n",
       "         [ 0.03143749, -0.04535168, -0.09664275,  0.01748487, -0.11735923,\n",
       "          -0.03599945, -0.09842521, -0.10731845, -0.10535266, -0.03276844,\n",
       "          -0.11579411, -0.06748391, -0.08877839, -0.11261044,  0.04405788,\n",
       "          -0.10854773]],\n",
       " \n",
       "        [[ 0.        ,  0.        ,  0.        ,  0.        ,  0.        ,\n",
       "           0.        ,  0.        ,  0.        ,  0.        ,  0.        ,\n",
       "           0.        ,  0.        ,  0.        ,  0.        ,  0.        ,\n",
       "           0.        ],\n",
       "         [-0.03216095,  0.00667053, -0.01970632,  0.01463582,  0.0255296 ,\n",
       "          -0.01704883,  0.0106651 , -0.02896355,  0.02593829,  0.03794508,\n",
       "           0.01217334, -0.03668317,  0.01834284, -0.02639282,  0.03017639,\n",
       "           0.00420537],\n",
       "         [ 0.0364452 ,  0.02231259, -0.04784444,  0.01634066, -0.01957251,\n",
       "          -0.00264371, -0.03380437, -0.03224416,  0.04335869, -0.03458434,\n",
       "          -0.04247714, -0.00778554, -0.06257852,  0.0274497 , -0.03926867,\n",
       "          -0.00331096],\n",
       "         [ 0.00326095,  0.01871495, -0.02665092, -0.02701997,  0.05599385,\n",
       "          -0.07910067, -0.00997223,  0.00973237,  0.03744437, -0.02097639,\n",
       "           0.03517625, -0.06251116,  0.09900541, -0.04267673,  0.04686373,\n",
       "          -0.00585827],\n",
       "         [-0.03763637,  0.02598611,  0.06134778,  0.08817724, -0.03451964,\n",
       "           0.01506106, -0.00862605, -0.06100015,  0.01581187, -0.02784661,\n",
       "          -0.07723999,  0.04226415, -0.03199476, -0.07493948, -0.07322741,\n",
       "          -0.01063254],\n",
       "         [ 0.04669631,  0.04962942,  0.01339025, -0.04403629,  0.08465897,\n",
       "          -0.09602971, -0.05393993, -0.03850769, -0.04420872,  0.01774701,\n",
       "          -0.01143262, -0.06222368, -0.02202669,  0.02259641,  0.08738302,\n",
       "           0.09064075],\n",
       "         [-0.03289369,  0.07589156, -0.05921876,  0.02676574, -0.08160435,\n",
       "          -0.0400122 ,  0.02329255,  0.00329081, -0.07516364, -0.03836043,\n",
       "          -0.07328134, -0.15298508,  0.03050803, -0.07715306, -0.06486659,\n",
       "          -0.0413868 ],\n",
       "         [ 0.08340651, -0.00384804,  0.1438179 , -0.07181891, -0.04444994,\n",
       "          -0.00501442, -0.04325846,  0.02556873,  0.04803516, -0.08492952,\n",
       "          -0.0777612 , -0.06046158, -0.08404132, -0.10454296,  0.04865194,\n",
       "           0.02770411],\n",
       "         [ 0.01323437,  0.08473468,  0.05287408,  0.07286724, -0.05459857,\n",
       "          -0.16036282,  0.05523418,  0.00627018, -0.1155755 ,  0.02020693,\n",
       "          -0.06173473, -0.00938853,  0.03122774, -0.00707519,  0.10522252,\n",
       "          -0.11190416],\n",
       "         [-0.0454216 ,  0.04570494,  0.02247174, -0.10945242, -0.03636845,\n",
       "           0.04233757, -0.1323754 , -0.04978597, -0.15358201,  0.08195884,\n",
       "          -0.11093996, -0.04530232, -0.01333245, -0.18842436,  0.07048205,\n",
       "           0.02052043],\n",
       "         [-0.01991201,  0.02409812,  0.02720327, -0.00477404, -0.02168401,\n",
       "           0.01606157,  0.01845991,  0.19884755, -0.0882267 ,  0.02183977,\n",
       "          -0.15549117, -0.14239779, -0.1620169 ,  0.01543168,  0.0119649 ,\n",
       "          -0.05809841],\n",
       "         [ 0.07781532, -0.16291922,  0.00542924,  0.02694924, -0.09401546,\n",
       "          -0.10552562, -0.07228968,  0.00414271, -0.0065181 , -0.0320598 ,\n",
       "          -0.01762112, -0.10597689, -0.12415215, -0.12278806,  0.1899284 ,\n",
       "          -0.17212747]]], dtype=float32),\n",
       " array([[ 0.08013226,  0.08013226,  0.08013226,  0.08350634,  0.07806345,\n",
       "          0.08147454,  0.087749  ,  0.07808173,  0.08674661,  0.09087233,\n",
       "          0.0910499 ,  0.08205932],\n",
       "        [ 0.07909836,  0.0824289 ,  0.07489728,  0.08359477,  0.08554827,\n",
       "          0.07405   ,  0.08802274,  0.08614522,  0.09097562,  0.08555722,\n",
       "          0.08345723,  0.08622438]], dtype=float32)]"
      ]
     },
     "execution_count": 21,
     "metadata": {},
     "output_type": "execute_result"
    }
   ],
   "source": [
    "f([X_train])"
   ]
  },
  {
   "cell_type": "code",
   "execution_count": 11,
   "metadata": {
    "collapsed": false
   },
   "outputs": [
    {
     "data": {
      "text/plain": [
       "array([ 0.,  0.,  0.,  0.,  0.,  0.,  0.,  0.,  0.,  0.,  0.,  0.,  0.,\n",
       "        0.,  0.,  0.,  1.,  1.,  1.,  1.,  1.,  1.,  1.,  1.,  1.,  1.,\n",
       "        1.,  1.,  1.,  1.,  1.,  1.,  0.,  0.,  0.,  0.,  0.,  0.,  0.,\n",
       "        0.,  0.,  0.,  0.,  0.,  0.,  0.,  0.,  0.,  0.,  0.,  0.,  0.,\n",
       "        0.,  0.,  0.,  0.,  0.,  0.,  0.,  0.,  0.,  0.,  0.,  0.], dtype=float32)"
      ]
     },
     "execution_count": 11,
     "metadata": {},
     "output_type": "execute_result"
    }
   ],
   "source": [
    "model.get_layer('activations').b.eval()"
   ]
  },
  {
   "cell_type": "code",
   "execution_count": 13,
   "metadata": {
    "collapsed": true
   },
   "outputs": [],
   "source": [
    "import theano.tensor as T"
   ]
  },
  {
   "cell_type": "code",
   "execution_count": 29,
   "metadata": {
    "collapsed": true
   },
   "outputs": [],
   "source": [
    "X = T.dmatrix(name='X')"
   ]
  },
  {
   "cell_type": "code",
   "execution_count": 30,
   "metadata": {
    "collapsed": false
   },
   "outputs": [],
   "source": [
    "exp_X = T.exp(X)"
   ]
  },
  {
   "cell_type": "code",
   "execution_count": 31,
   "metadata": {
    "collapsed": true
   },
   "outputs": [],
   "source": [
    "import theano"
   ]
  },
  {
   "cell_type": "code",
   "execution_count": 38,
   "metadata": {
    "collapsed": false
   },
   "outputs": [],
   "source": [
    "f = theano.function(inputs=[X], outputs=exp_X)"
   ]
  },
  {
   "cell_type": "code",
   "execution_count": 40,
   "metadata": {
    "collapsed": false
   },
   "outputs": [
    {
     "ename": "TypeError",
     "evalue": "Too many parameter passed to theano function",
     "output_type": "error",
     "traceback": [
      "\u001b[0;31m---------------------------------------------------------------------------\u001b[0m",
      "\u001b[0;31mTypeError\u001b[0m                                 Traceback (most recent call last)",
      "\u001b[0;32m<ipython-input-40-d0b313d27d08>\u001b[0m in \u001b[0;36m<module>\u001b[0;34m()\u001b[0m\n\u001b[0;32m----> 1\u001b[0;31m \u001b[0mf\u001b[0m\u001b[0;34m(\u001b[0m\u001b[0;34m[\u001b[0m\u001b[0mnp\u001b[0m\u001b[0;34m.\u001b[0m\u001b[0mrandom\u001b[0m\u001b[0;34m.\u001b[0m\u001b[0mrandn\u001b[0m\u001b[0;34m(\u001b[0m\u001b[0;36m1\u001b[0m\u001b[0;34m,\u001b[0m \u001b[0;36m5\u001b[0m\u001b[0;34m)\u001b[0m\u001b[0;34m]\u001b[0m\u001b[0;34m,\u001b[0m \u001b[0mallow_input_downcast\u001b[0m\u001b[0;34m=\u001b[0m\u001b[0mTrue\u001b[0m\u001b[0;34m)\u001b[0m\u001b[0;34m\u001b[0m\u001b[0m\n\u001b[0m",
      "\u001b[0;32m/Users/ebanner/.anaconda/envs/py27/lib/python2.7/site-packages/theano/compile/function_module.pyc\u001b[0m in \u001b[0;36m__call__\u001b[0;34m(self, *args, **kwargs)\u001b[0m\n\u001b[1;32m    770\u001b[0m \u001b[0;34m\u001b[0m\u001b[0m\n\u001b[1;32m    771\u001b[0m             \u001b[0;32mif\u001b[0m \u001b[0mlen\u001b[0m\u001b[0;34m(\u001b[0m\u001b[0margs\u001b[0m\u001b[0;34m)\u001b[0m \u001b[0;34m+\u001b[0m \u001b[0mlen\u001b[0m\u001b[0;34m(\u001b[0m\u001b[0mkwargs\u001b[0m\u001b[0;34m)\u001b[0m \u001b[0;34m>\u001b[0m \u001b[0mlen\u001b[0m\u001b[0;34m(\u001b[0m\u001b[0mself\u001b[0m\u001b[0;34m.\u001b[0m\u001b[0minput_storage\u001b[0m\u001b[0;34m)\u001b[0m\u001b[0;34m:\u001b[0m\u001b[0;34m\u001b[0m\u001b[0m\n\u001b[0;32m--> 772\u001b[0;31m                 \u001b[0;32mraise\u001b[0m \u001b[0mTypeError\u001b[0m\u001b[0;34m(\u001b[0m\u001b[0;34m\"Too many parameter passed to theano function\"\u001b[0m\u001b[0;34m)\u001b[0m\u001b[0;34m\u001b[0m\u001b[0m\n\u001b[0m\u001b[1;32m    773\u001b[0m \u001b[0;34m\u001b[0m\u001b[0m\n\u001b[1;32m    774\u001b[0m             \u001b[0;31m# Set positional arguments\u001b[0m\u001b[0;34m\u001b[0m\u001b[0;34m\u001b[0m\u001b[0m\n",
      "\u001b[0;31mTypeError\u001b[0m: Too many parameter passed to theano function"
     ]
    }
   ],
   "source": [
    "f([np.random.randn(1, 5)])"
   ]
  },
  {
   "cell_type": "code",
   "execution_count": 61,
   "metadata": {
    "collapsed": false
   },
   "outputs": [],
   "source": [
    "T.max?"
   ]
  },
  {
   "cell_type": "code",
   "execution_count": 58,
   "metadata": {
    "collapsed": true
   },
   "outputs": [],
   "source": [
    "T.exp?"
   ]
  },
  {
   "cell_type": "code",
   "execution_count": 59,
   "metadata": {
    "collapsed": true
   },
   "outputs": [],
   "source": [
    "T.sum?"
   ]
  },
  {
   "cell_type": "code",
   "execution_count": 81,
   "metadata": {
    "collapsed": false
   },
   "outputs": [],
   "source": [
    "ones = np.ones([2, 1])"
   ]
  },
  {
   "cell_type": "code",
   "execution_count": 84,
   "metadata": {
    "collapsed": false
   },
   "outputs": [],
   "source": [
    "zeros = np.zeros([2, 1])"
   ]
  },
  {
   "cell_type": "code",
   "execution_count": 85,
   "metadata": {
    "collapsed": false,
    "scrolled": true
   },
   "outputs": [
    {
     "ename": "TypeError",
     "evalue": "Bad input argument to theano function with name \"<ipython-input-85-04e57bbfad06>:10\" at index 0 (0-based).  \nBacktrace when that variable is created:\n\n  File \"/Users/ebanner/.anaconda/envs/py27/lib/python2.7/site-packages/ipykernel/kernelbase.py\", line 228, in dispatch_shell\n    handler(stream, idents, msg)\n  File \"/Users/ebanner/.anaconda/envs/py27/lib/python2.7/site-packages/ipykernel/kernelbase.py\", line 390, in execute_request\n    user_expressions, allow_stdin)\n  File \"/Users/ebanner/.anaconda/envs/py27/lib/python2.7/site-packages/ipykernel/ipkernel.py\", line 196, in do_execute\n    res = shell.run_cell(code, store_history=store_history, silent=silent)\n  File \"/Users/ebanner/.anaconda/envs/py27/lib/python2.7/site-packages/ipykernel/zmqshell.py\", line 501, in run_cell\n    return super(ZMQInteractiveShell, self).run_cell(*args, **kwargs)\n  File \"/Users/ebanner/.anaconda/envs/py27/lib/python2.7/site-packages/IPython/core/interactiveshell.py\", line 2717, in run_cell\n    interactivity=interactivity, compiler=compiler, result=result)\n  File \"/Users/ebanner/.anaconda/envs/py27/lib/python2.7/site-packages/IPython/core/interactiveshell.py\", line 2821, in run_ast_nodes\n    if self.run_code(code, result):\n  File \"/Users/ebanner/.anaconda/envs/py27/lib/python2.7/site-packages/IPython/core/interactiveshell.py\", line 2881, in run_code\n    exec(code_obj, self.user_global_ns, self.user_ns)\n  File \"<ipython-input-85-04e57bbfad06>\", line 5, in <module>\n    x -= T.max(x, axis=0, keepdims=True)\nWrong number of dimensions: expected 2, got 3 with shape (2, 2, 1).",
     "output_type": "error",
     "traceback": [
      "\u001b[0;31m---------------------------------------------------------------------------\u001b[0m",
      "\u001b[0;31mTypeError\u001b[0m                                 Traceback (most recent call last)",
      "\u001b[0;32m<ipython-input-85-04e57bbfad06>\u001b[0m in \u001b[0;36m<module>\u001b[0;34m()\u001b[0m\n\u001b[1;32m      9\u001b[0m \u001b[0;34m\u001b[0m\u001b[0m\n\u001b[1;32m     10\u001b[0m \u001b[0mf\u001b[0m \u001b[0;34m=\u001b[0m \u001b[0mtheano\u001b[0m\u001b[0;34m.\u001b[0m\u001b[0mfunction\u001b[0m\u001b[0;34m(\u001b[0m\u001b[0minputs\u001b[0m\u001b[0;34m=\u001b[0m\u001b[0;34m[\u001b[0m\u001b[0mx\u001b[0m\u001b[0;34m]\u001b[0m\u001b[0;34m,\u001b[0m \u001b[0moutputs\u001b[0m\u001b[0;34m=\u001b[0m\u001b[0;34m[\u001b[0m\u001b[0mx\u001b[0m\u001b[0;34m,\u001b[0m \u001b[0me_x\u001b[0m\u001b[0;34m,\u001b[0m \u001b[0msum_x\u001b[0m\u001b[0;34m,\u001b[0m \u001b[0ms_x\u001b[0m\u001b[0;34m]\u001b[0m\u001b[0;34m)\u001b[0m\u001b[0;34m\u001b[0m\u001b[0m\n\u001b[0;32m---> 11\u001b[0;31m \u001b[0mx\u001b[0m\u001b[0;34m,\u001b[0m \u001b[0me_x\u001b[0m\u001b[0;34m,\u001b[0m \u001b[0msum_x\u001b[0m\u001b[0;34m,\u001b[0m \u001b[0ms_x\u001b[0m \u001b[0;34m=\u001b[0m \u001b[0mf\u001b[0m\u001b[0;34m(\u001b[0m\u001b[0;34m[\u001b[0m\u001b[0mones\u001b[0m\u001b[0;34m,\u001b[0m \u001b[0mzeros\u001b[0m\u001b[0;34m]\u001b[0m\u001b[0;34m)\u001b[0m\u001b[0;34m\u001b[0m\u001b[0m\n\u001b[0m",
      "\u001b[0;32m/Users/ebanner/.anaconda/envs/py27/lib/python2.7/site-packages/theano/compile/function_module.pyc\u001b[0m in \u001b[0;36m__call__\u001b[0;34m(self, *args, **kwargs)\u001b[0m\n\u001b[1;32m    786\u001b[0m                         s.storage[0] = s.type.filter(\n\u001b[1;32m    787\u001b[0m                             \u001b[0marg\u001b[0m\u001b[0;34m,\u001b[0m \u001b[0mstrict\u001b[0m\u001b[0;34m=\u001b[0m\u001b[0ms\u001b[0m\u001b[0;34m.\u001b[0m\u001b[0mstrict\u001b[0m\u001b[0;34m,\u001b[0m\u001b[0;34m\u001b[0m\u001b[0m\n\u001b[0;32m--> 788\u001b[0;31m                             allow_downcast=s.allow_downcast)\n\u001b[0m\u001b[1;32m    789\u001b[0m \u001b[0;34m\u001b[0m\u001b[0m\n\u001b[1;32m    790\u001b[0m                     \u001b[0;32mexcept\u001b[0m \u001b[0mException\u001b[0m \u001b[0;32mas\u001b[0m \u001b[0me\u001b[0m\u001b[0;34m:\u001b[0m\u001b[0;34m\u001b[0m\u001b[0m\n",
      "\u001b[0;32m/Users/ebanner/.anaconda/envs/py27/lib/python2.7/site-packages/theano/tensor/type.pyc\u001b[0m in \u001b[0;36mfilter\u001b[0;34m(self, data, strict, allow_downcast)\u001b[0m\n\u001b[1;32m    176\u001b[0m             raise TypeError(\"Wrong number of dimensions: expected %s,\"\n\u001b[1;32m    177\u001b[0m                             \" got %s with shape %s.\" % (self.ndim, data.ndim,\n\u001b[0;32m--> 178\u001b[0;31m                                                         data.shape))\n\u001b[0m\u001b[1;32m    179\u001b[0m         \u001b[0;32mif\u001b[0m \u001b[0;32mnot\u001b[0m \u001b[0mdata\u001b[0m\u001b[0;34m.\u001b[0m\u001b[0mflags\u001b[0m\u001b[0;34m.\u001b[0m\u001b[0maligned\u001b[0m\u001b[0;34m:\u001b[0m\u001b[0;34m\u001b[0m\u001b[0m\n\u001b[1;32m    180\u001b[0m             \u001b[0;32mtry\u001b[0m\u001b[0;34m:\u001b[0m\u001b[0;34m\u001b[0m\u001b[0m\n",
      "\u001b[0;31mTypeError\u001b[0m: Bad input argument to theano function with name \"<ipython-input-85-04e57bbfad06>:10\" at index 0 (0-based).  \nBacktrace when that variable is created:\n\n  File \"/Users/ebanner/.anaconda/envs/py27/lib/python2.7/site-packages/ipykernel/kernelbase.py\", line 228, in dispatch_shell\n    handler(stream, idents, msg)\n  File \"/Users/ebanner/.anaconda/envs/py27/lib/python2.7/site-packages/ipykernel/kernelbase.py\", line 390, in execute_request\n    user_expressions, allow_stdin)\n  File \"/Users/ebanner/.anaconda/envs/py27/lib/python2.7/site-packages/ipykernel/ipkernel.py\", line 196, in do_execute\n    res = shell.run_cell(code, store_history=store_history, silent=silent)\n  File \"/Users/ebanner/.anaconda/envs/py27/lib/python2.7/site-packages/ipykernel/zmqshell.py\", line 501, in run_cell\n    return super(ZMQInteractiveShell, self).run_cell(*args, **kwargs)\n  File \"/Users/ebanner/.anaconda/envs/py27/lib/python2.7/site-packages/IPython/core/interactiveshell.py\", line 2717, in run_cell\n    interactivity=interactivity, compiler=compiler, result=result)\n  File \"/Users/ebanner/.anaconda/envs/py27/lib/python2.7/site-packages/IPython/core/interactiveshell.py\", line 2821, in run_ast_nodes\n    if self.run_code(code, result):\n  File \"/Users/ebanner/.anaconda/envs/py27/lib/python2.7/site-packages/IPython/core/interactiveshell.py\", line 2881, in run_code\n    exec(code_obj, self.user_global_ns, self.user_ns)\n  File \"<ipython-input-85-04e57bbfad06>\", line 5, in <module>\n    x -= T.max(x, axis=0, keepdims=True)\nWrong number of dimensions: expected 2, got 3 with shape (2, 2, 1)."
     ]
    }
   ],
   "source": [
    "import theano\n",
    "import theano.tensor as T\n",
    "\n",
    "x = T.dmatrix('x')\n",
    "x -= T.max(x, axis=0, keepdims=True)\n",
    "e_x = T.exp(x)\n",
    "sum_x = T.sum(e_x, axis=0, keepdims=True)\n",
    "s_x = e_x / sum_x\n",
    "\n",
    "f = theano.function(inputs=[x], outputs=[x, e_x, sum_x, s_x])\n",
    "x, e_x, sum_x, s_x = f([ones, zeros])"
   ]
  },
  {
   "cell_type": "code",
   "execution_count": 129,
   "metadata": {
    "collapsed": false
   },
   "outputs": [
    {
     "data": {
      "text/plain": [
       "array([[1],\n",
       "       [2]])"
      ]
     },
     "execution_count": 129,
     "metadata": {},
     "output_type": "execute_result"
    }
   ],
   "source": [
    "np.array([1, 2])[:, np.newaxis]"
   ]
  },
  {
   "cell_type": "code",
   "execution_count": 134,
   "metadata": {
    "collapsed": false
   },
   "outputs": [],
   "source": [
    "import theano\n",
    "import theano.tensor as T\n",
    "\n",
    "x = T.tensor3('x')\n",
    "m_x = T.max(x, axis=1, keepdims=True)\n",
    "s_x = x - m_x\n",
    "e_x = T.exp(s_x)\n",
    "sum_x = T.sum(e_x, axis=1, keepdims=True)\n",
    "sm_x = e_x / sum_x\n",
    "\n",
    "f = theano.function(inputs=[x], outputs=[x, m_x, s_x, e_x, sum_x, sm_x])\n",
    "x, m_x, s_x, e_x, sum_x, sm_x = f([np.array([[1], [2]]), zeros])"
   ]
  },
  {
   "cell_type": "code",
   "execution_count": 141,
   "metadata": {
    "collapsed": false
   },
   "outputs": [
    {
     "data": {
      "text/plain": [
       "(2, 2, 1)"
      ]
     },
     "execution_count": 141,
     "metadata": {},
     "output_type": "execute_result"
    }
   ],
   "source": [
    "x.shape"
   ]
  },
  {
   "cell_type": "code",
   "execution_count": 136,
   "metadata": {
    "collapsed": false
   },
   "outputs": [
    {
     "data": {
      "text/plain": [
       "array([[[ 2.]],\n",
       "\n",
       "       [[ 0.]]], dtype=float32)"
      ]
     },
     "execution_count": 136,
     "metadata": {},
     "output_type": "execute_result"
    }
   ],
   "source": [
    "m_x"
   ]
  },
  {
   "cell_type": "code",
   "execution_count": 137,
   "metadata": {
    "collapsed": false
   },
   "outputs": [
    {
     "data": {
      "text/plain": [
       "array([[[-1.],\n",
       "        [ 0.]],\n",
       "\n",
       "       [[ 0.],\n",
       "        [ 0.]]], dtype=float32)"
      ]
     },
     "execution_count": 137,
     "metadata": {},
     "output_type": "execute_result"
    }
   ],
   "source": [
    "s_x"
   ]
  },
  {
   "cell_type": "code",
   "execution_count": 138,
   "metadata": {
    "collapsed": false
   },
   "outputs": [
    {
     "data": {
      "text/plain": [
       "array([[[ 0.36787945],\n",
       "        [ 1.        ]],\n",
       "\n",
       "       [[ 1.        ],\n",
       "        [ 1.        ]]], dtype=float32)"
      ]
     },
     "execution_count": 138,
     "metadata": {},
     "output_type": "execute_result"
    }
   ],
   "source": [
    "e_x"
   ]
  },
  {
   "cell_type": "code",
   "execution_count": 139,
   "metadata": {
    "collapsed": false
   },
   "outputs": [
    {
     "data": {
      "text/plain": [
       "array([[[ 1.36787939]],\n",
       "\n",
       "       [[ 2.        ]]], dtype=float32)"
      ]
     },
     "execution_count": 139,
     "metadata": {},
     "output_type": "execute_result"
    }
   ],
   "source": [
    "sum_x"
   ]
  },
  {
   "cell_type": "code",
   "execution_count": 140,
   "metadata": {
    "collapsed": false
   },
   "outputs": [
    {
     "data": {
      "text/plain": [
       "array([[[ 0.26894143],\n",
       "        [ 0.7310586 ]],\n",
       "\n",
       "       [[ 0.5       ],\n",
       "        [ 0.5       ]]], dtype=float32)"
      ]
     },
     "execution_count": 140,
     "metadata": {},
     "output_type": "execute_result"
    }
   ],
   "source": [
    "sm_x"
   ]
  },
  {
   "cell_type": "code",
   "execution_count": 106,
   "metadata": {
    "collapsed": false
   },
   "outputs": [
    {
     "data": {
      "text/plain": [
       "array([[[ 1.,  1.,  1.,  1.],\n",
       "        [ 1.,  1.,  1.,  1.],\n",
       "        [ 1.,  1.,  1.,  1.]],\n",
       "\n",
       "       [[ 1.,  1.,  1.,  1.],\n",
       "        [ 1.,  1.,  1.,  1.],\n",
       "        [ 1.,  1.,  1.,  1.]]])"
      ]
     },
     "execution_count": 106,
     "metadata": {},
     "output_type": "execute_result"
    }
   ],
   "source": [
    "np.ones([2, 3, 4])"
   ]
  },
  {
   "cell_type": "code",
   "execution_count": 109,
   "metadata": {
    "collapsed": false
   },
   "outputs": [
    {
     "data": {
      "text/plain": [
       "array([[[ 3.,  3.,  3.,  3.]],\n",
       "\n",
       "       [[ 3.,  3.,  3.,  3.]]])"
      ]
     },
     "execution_count": 109,
     "metadata": {},
     "output_type": "execute_result"
    }
   ],
   "source": [
    "np.ones([2, 3, 4]).sum(axis=1, keepdims=True)"
   ]
  },
  {
   "cell_type": "code",
   "execution_count": 103,
   "metadata": {
    "collapsed": false
   },
   "outputs": [
    {
     "data": {
      "text/plain": [
       "array([[ 4.,  4.,  4.,  4.,  4.],\n",
       "       [ 4.,  4.,  4.,  4.,  4.],\n",
       "       [ 4.,  4.,  4.,  4.,  4.]])"
      ]
     },
     "execution_count": 103,
     "metadata": {},
     "output_type": "execute_result"
    }
   ],
   "source": [
    "np.ones([3, 4, 5]).sum(axis=1)"
   ]
  }
 ],
 "metadata": {
  "anaconda-cloud": {},
  "kernelspec": {
   "display_name": "Python [default]",
   "language": "python",
   "name": "python2"
  },
  "language_info": {
   "codemirror_mode": {
    "name": "ipython",
    "version": 2
   },
   "file_extension": ".py",
   "mimetype": "text/x-python",
   "name": "python",
   "nbconvert_exporter": "python",
   "pygments_lexer": "ipython2",
   "version": "2.7.12"
  }
 },
 "nbformat": 4,
 "nbformat_minor": 0
}
