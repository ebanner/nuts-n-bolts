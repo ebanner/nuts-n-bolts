{
 "cells": [
  {
   "cell_type": "markdown",
   "metadata": {},
   "source": [
    "# LSTM Plus Attention"
   ]
  },
  {
   "cell_type": "code",
   "execution_count": 1,
   "metadata": {
    "collapsed": false
   },
   "outputs": [
    {
     "name": "stderr",
     "output_type": "stream",
     "text": [
      "Using Theano backend.\n"
     ]
    },
    {
     "name": "stdout",
     "output_type": "stream",
     "text": [
      "____________________________________________________________________________________________________\n",
      "Layer (type)                     Output Shape          Param #     Connected to                     \n",
      "====================================================================================================\n",
      "input_1 (InputLayer)             (None, 12)            0                                            \n",
      "____________________________________________________________________________________________________\n",
      "embedding_1 (Embedding)          (None, 12, 5)         50          input_1[0][0]                    \n",
      "____________________________________________________________________________________________________\n",
      "lstm_1 (LSTM)                    (None, 12, 16)        1408        embedding_1[0][0]                \n",
      "____________________________________________________________________________________________________\n",
      "timedistributed_1 (TimeDistribute(None, 12, 1)         17          lstm_1[0][0]                     \n",
      "____________________________________________________________________________________________________\n",
      "reshape_1 (Reshape)              (None, 12)            0           timedistributed_1[0][0]          \n",
      "____________________________________________________________________________________________________\n",
      "activation_1 (Activation)        (None, 12)            0           reshape_1[0][0]                  \n",
      "____________________________________________________________________________________________________\n",
      "repeatvector_1 (RepeatVector)    (None, 16, 12)        0           activation_1[0][0]               \n",
      "____________________________________________________________________________________________________\n",
      "permute_1 (Permute)              (None, 12, 16)        0           repeatvector_1[0][0]             \n",
      "____________________________________________________________________________________________________\n",
      "merge_1 (Merge)                  (None, 12, 16)        0           lstm_1[0][0]                     \n",
      "                                                                   permute_1[0][0]                  \n",
      "____________________________________________________________________________________________________\n",
      "averagepooling1d_1 (AveragePoolin(None, 1, 16)         0           merge_1[0][0]                    \n",
      "____________________________________________________________________________________________________\n",
      "flatten_1 (Flatten)              (None, 16)            0           averagepooling1d_1[0][0]         \n",
      "____________________________________________________________________________________________________\n",
      "dense_2 (Dense)                  (None, 2)             34          flatten_1[0][0]                  \n",
      "====================================================================================================\n",
      "Total params: 1509\n",
      "____________________________________________________________________________________________________\n"
     ]
    }
   ],
   "source": [
    "from keras.layers import Input, Embedding, Dense, LSTM, merge, Activation, Permute, Reshape\n",
    "from keras.layers import Convolution1D, MaxPooling1D, Flatten, TimeDistributed, RepeatVector\n",
    "from keras.layers.convolutional import AveragePooling1D\n",
    "from keras.models import Model\n",
    "\n",
    "max_doclen = 12\n",
    "word_dim, vocab_size = 5, 10\n",
    "\n",
    "nb_class = 2\n",
    "\n",
    "input = Input(shape=[max_doclen], dtype='int32')\n",
    "\n",
    "# embedding\n",
    "embedded = Embedding(output_dim=word_dim,\n",
    "                     input_dim=vocab_size,\n",
    "                     input_length=max_doclen,\n",
    "                     weights=None)(input)\n",
    "\n",
    "# lstm the document\n",
    "activations = LSTM(16, return_sequences=True)(embedded)\n",
    "\n",
    "# attention mask\n",
    "mask = TimeDistributed(Dense(1))(activations)\n",
    "mask = Reshape([max_doclen])(mask)\n",
    "mask = Activation('softmax')(mask)\n",
    "mask = RepeatVector(16)(mask)\n",
    "mask = Permute([2, 1])(mask)\n",
    "\n",
    "# apply mask\n",
    "activations = merge([activations, mask], mode='mul')\n",
    "activations = AveragePooling1D(pool_length=max_doclen)(activations)\n",
    "activations = Flatten()(activations)\n",
    "\n",
    "probas = Dense(nb_class, activation='softmax')(activations)\n",
    "\n",
    "# compile\n",
    "model = Model(input=input, output=probas)\n",
    "# model.compile(optimizer='adam', loss='categorical_crossentropy', metrics=['accuracy'])\n",
    "\n",
    "model.summary()"
   ]
  },
  {
   "cell_type": "code",
   "execution_count": 2,
   "metadata": {
    "collapsed": false
   },
   "outputs": [
    {
     "data": {
      "image/svg+xml": [
       "<svg height=\"848pt\" viewBox=\"0.00 0.00 325.91 848.00\" width=\"326pt\" xmlns=\"http://www.w3.org/2000/svg\" xmlns:xlink=\"http://www.w3.org/1999/xlink\">\n",
       "<g class=\"graph\" id=\"graph0\" transform=\"scale(1 1) rotate(0) translate(4 844)\">\n",
       "<title>G</title>\n",
       "<polygon fill=\"white\" points=\"-4,4 -4,-844 321.911,-844 321.911,4 -4,4\" stroke=\"none\"/>\n",
       "<!-- 4425696272 -->\n",
       "<g class=\"node\" id=\"node1\"><title>4425696272</title>\n",
       "<polygon fill=\"none\" points=\"111.923,-803.5 111.923,-839.5 245.72,-839.5 245.72,-803.5 111.923,-803.5\" stroke=\"black\"/>\n",
       "<text font-family=\"Times,serif\" font-size=\"14.00\" text-anchor=\"middle\" x=\"178.821\" y=\"-817.3\">input_1 (InputLayer)</text>\n",
       "</g>\n",
       "<!-- 4554836624 -->\n",
       "<g class=\"node\" id=\"node2\"><title>4554836624</title>\n",
       "<polygon fill=\"none\" points=\"94.0332,-730.5 94.0332,-766.5 263.609,-766.5 263.609,-730.5 94.0332,-730.5\" stroke=\"black\"/>\n",
       "<text font-family=\"Times,serif\" font-size=\"14.00\" text-anchor=\"middle\" x=\"178.821\" y=\"-744.3\">embedding_1 (Embedding)</text>\n",
       "</g>\n",
       "<!-- 4425696272&#45;&gt;4554836624 -->\n",
       "<g class=\"edge\" id=\"edge1\"><title>4425696272-&gt;4554836624</title>\n",
       "<path d=\"M178.821,-803.313C178.821,-795.289 178.821,-785.547 178.821,-776.569\" fill=\"none\" stroke=\"black\"/>\n",
       "<polygon fill=\"black\" points=\"182.321,-776.529 178.821,-766.529 175.321,-776.529 182.321,-776.529\" stroke=\"black\"/>\n",
       "</g>\n",
       "<!-- 4563546000 -->\n",
       "<g class=\"node\" id=\"node3\"><title>4563546000</title>\n",
       "<polygon fill=\"none\" points=\"126.682,-657.5 126.682,-693.5 230.961,-693.5 230.961,-657.5 126.682,-657.5\" stroke=\"black\"/>\n",
       "<text font-family=\"Times,serif\" font-size=\"14.00\" text-anchor=\"middle\" x=\"178.821\" y=\"-671.3\">lstm_1 (LSTM)</text>\n",
       "</g>\n",
       "<!-- 4554836624&#45;&gt;4563546000 -->\n",
       "<g class=\"edge\" id=\"edge2\"><title>4554836624-&gt;4563546000</title>\n",
       "<path d=\"M178.821,-730.313C178.821,-722.289 178.821,-712.547 178.821,-703.569\" fill=\"none\" stroke=\"black\"/>\n",
       "<polygon fill=\"black\" points=\"182.321,-703.529 178.821,-693.529 175.321,-703.529 182.321,-703.529\" stroke=\"black\"/>\n",
       "</g>\n",
       "<!-- 4568896336 -->\n",
       "<g class=\"node\" id=\"node4\"><title>4568896336</title>\n",
       "<polygon fill=\"none\" points=\"0,-584.5 0,-620.5 219.643,-620.5 219.643,-584.5 0,-584.5\" stroke=\"black\"/>\n",
       "<text font-family=\"Times,serif\" font-size=\"14.00\" text-anchor=\"middle\" x=\"109.821\" y=\"-598.3\">timedistributed_1 (TimeDistributed)</text>\n",
       "</g>\n",
       "<!-- 4563546000&#45;&gt;4568896336 -->\n",
       "<g class=\"edge\" id=\"edge3\"><title>4563546000-&gt;4568896336</title>\n",
       "<path d=\"M162.118,-657.313C153.558,-648.505 142.985,-637.625 133.591,-627.958\" fill=\"none\" stroke=\"black\"/>\n",
       "<polygon fill=\"black\" points=\"135.85,-625.261 126.37,-620.529 130.83,-630.14 135.85,-625.261\" stroke=\"black\"/>\n",
       "</g>\n",
       "<!-- 4569214928 -->\n",
       "<g class=\"node\" id=\"node9\"><title>4569214928</title>\n",
       "<polygon fill=\"none\" points=\"135.896,-219.5 135.896,-255.5 249.746,-255.5 249.746,-219.5 135.896,-219.5\" stroke=\"black\"/>\n",
       "<text font-family=\"Times,serif\" font-size=\"14.00\" text-anchor=\"middle\" x=\"192.821\" y=\"-233.3\">merge_1 (Merge)</text>\n",
       "</g>\n",
       "<!-- 4563546000&#45;&gt;4569214928 -->\n",
       "<g class=\"edge\" id=\"edge8\"><title>4563546000-&gt;4569214928</title>\n",
       "<path d=\"M199.447,-657.419C209.786,-647.768 221.611,-634.875 228.821,-621 247.773,-584.531 247.821,-571.599 247.821,-530.5 247.821,-530.5 247.821,-530.5 247.821,-382.5 247.821,-338.981 225.628,-292.646 209.437,-264.632\" fill=\"none\" stroke=\"black\"/>\n",
       "<polygon fill=\"black\" points=\"212.341,-262.666 204.217,-255.864 206.326,-266.247 212.341,-262.666\" stroke=\"black\"/>\n",
       "</g>\n",
       "<!-- 4568896208 -->\n",
       "<g class=\"node\" id=\"node5\"><title>4568896208</title>\n",
       "<polygon fill=\"none\" points=\"45.3193,-511.5 45.3193,-547.5 178.323,-547.5 178.323,-511.5 45.3193,-511.5\" stroke=\"black\"/>\n",
       "<text font-family=\"Times,serif\" font-size=\"14.00\" text-anchor=\"middle\" x=\"111.821\" y=\"-525.3\">reshape_1 (Reshape)</text>\n",
       "</g>\n",
       "<!-- 4568896336&#45;&gt;4568896208 -->\n",
       "<g class=\"edge\" id=\"edge4\"><title>4568896336-&gt;4568896208</title>\n",
       "<path d=\"M110.305,-584.313C110.531,-576.289 110.806,-566.547 111.059,-557.569\" fill=\"none\" stroke=\"black\"/>\n",
       "<polygon fill=\"black\" points=\"114.559,-557.623 111.342,-547.529 107.561,-557.426 114.559,-557.623\" stroke=\"black\"/>\n",
       "</g>\n",
       "<!-- 4568999952 -->\n",
       "<g class=\"node\" id=\"node6\"><title>4568999952</title>\n",
       "<polygon fill=\"none\" points=\"41.2607,-438.5 41.2607,-474.5 198.382,-474.5 198.382,-438.5 41.2607,-438.5\" stroke=\"black\"/>\n",
       "<text font-family=\"Times,serif\" font-size=\"14.00\" text-anchor=\"middle\" x=\"119.821\" y=\"-452.3\">activation_1 (Activation)</text>\n",
       "</g>\n",
       "<!-- 4568896208&#45;&gt;4568999952 -->\n",
       "<g class=\"edge\" id=\"edge5\"><title>4568896208-&gt;4568999952</title>\n",
       "<path d=\"M113.758,-511.313C114.662,-503.289 115.76,-493.547 116.771,-484.569\" fill=\"none\" stroke=\"black\"/>\n",
       "<polygon fill=\"black\" points=\"120.261,-484.858 117.903,-474.529 113.305,-484.074 120.261,-484.858\" stroke=\"black\"/>\n",
       "</g>\n",
       "<!-- 4569000848 -->\n",
       "<g class=\"node\" id=\"node7\"><title>4569000848</title>\n",
       "<polygon fill=\"none\" points=\"30.1191,-365.5 30.1191,-401.5 217.523,-401.5 217.523,-365.5 30.1191,-365.5\" stroke=\"black\"/>\n",
       "<text font-family=\"Times,serif\" font-size=\"14.00\" text-anchor=\"middle\" x=\"123.821\" y=\"-379.3\">repeatvector_1 (RepeatVector)</text>\n",
       "</g>\n",
       "<!-- 4568999952&#45;&gt;4569000848 -->\n",
       "<g class=\"edge\" id=\"edge6\"><title>4568999952-&gt;4569000848</title>\n",
       "<path d=\"M120.79,-438.313C121.242,-430.289 121.79,-420.547 122.296,-411.569\" fill=\"none\" stroke=\"black\"/>\n",
       "<polygon fill=\"black\" points=\"125.794,-411.71 122.862,-401.529 118.805,-411.316 125.794,-411.71\" stroke=\"black\"/>\n",
       "</g>\n",
       "<!-- 4569180304 -->\n",
       "<g class=\"node\" id=\"node8\"><title>4569180304</title>\n",
       "<polygon fill=\"none\" points=\"70.147,-292.5 70.147,-328.5 205.496,-328.5 205.496,-292.5 70.147,-292.5\" stroke=\"black\"/>\n",
       "<text font-family=\"Times,serif\" font-size=\"14.00\" text-anchor=\"middle\" x=\"137.821\" y=\"-306.3\">permute_1 (Permute)</text>\n",
       "</g>\n",
       "<!-- 4569000848&#45;&gt;4569180304 -->\n",
       "<g class=\"edge\" id=\"edge7\"><title>4569000848-&gt;4569180304</title>\n",
       "<path d=\"M127.21,-365.313C128.792,-357.289 130.713,-347.547 132.484,-338.569\" fill=\"none\" stroke=\"black\"/>\n",
       "<polygon fill=\"black\" points=\"135.963,-339.017 134.463,-328.529 129.095,-337.663 135.963,-339.017\" stroke=\"black\"/>\n",
       "</g>\n",
       "<!-- 4569180304&#45;&gt;4569214928 -->\n",
       "<g class=\"edge\" id=\"edge9\"><title>4569180304-&gt;4569214928</title>\n",
       "<path d=\"M151.135,-292.313C157.823,-283.679 166.053,-273.055 173.429,-263.534\" fill=\"none\" stroke=\"black\"/>\n",
       "<polygon fill=\"black\" points=\"176.273,-265.578 179.63,-255.529 170.739,-261.291 176.273,-265.578\" stroke=\"black\"/>\n",
       "</g>\n",
       "<!-- 4569227792 -->\n",
       "<g class=\"node\" id=\"node10\"><title>4569227792</title>\n",
       "<polygon fill=\"none\" points=\"67.7319,-146.5 67.7319,-182.5 317.911,-182.5 317.911,-146.5 67.7319,-146.5\" stroke=\"black\"/>\n",
       "<text font-family=\"Times,serif\" font-size=\"14.00\" text-anchor=\"middle\" x=\"192.821\" y=\"-160.3\">averagepooling1d_1 (AveragePooling1D)</text>\n",
       "</g>\n",
       "<!-- 4569214928&#45;&gt;4569227792 -->\n",
       "<g class=\"edge\" id=\"edge10\"><title>4569214928-&gt;4569227792</title>\n",
       "<path d=\"M192.821,-219.313C192.821,-211.289 192.821,-201.547 192.821,-192.569\" fill=\"none\" stroke=\"black\"/>\n",
       "<polygon fill=\"black\" points=\"196.321,-192.529 192.821,-182.529 189.321,-192.529 196.321,-192.529\" stroke=\"black\"/>\n",
       "</g>\n",
       "<!-- 4569228816 -->\n",
       "<g class=\"node\" id=\"node11\"><title>4569228816</title>\n",
       "<polygon fill=\"none\" points=\"134.471,-73.5 134.471,-109.5 251.171,-109.5 251.171,-73.5 134.471,-73.5\" stroke=\"black\"/>\n",
       "<text font-family=\"Times,serif\" font-size=\"14.00\" text-anchor=\"middle\" x=\"192.821\" y=\"-87.3\">flatten_1 (Flatten)</text>\n",
       "</g>\n",
       "<!-- 4569227792&#45;&gt;4569228816 -->\n",
       "<g class=\"edge\" id=\"edge11\"><title>4569227792-&gt;4569228816</title>\n",
       "<path d=\"M192.821,-146.313C192.821,-138.289 192.821,-128.547 192.821,-119.569\" fill=\"none\" stroke=\"black\"/>\n",
       "<polygon fill=\"black\" points=\"196.321,-119.529 192.821,-109.529 189.321,-119.529 196.321,-119.529\" stroke=\"black\"/>\n",
       "</g>\n",
       "<!-- 4569213072 -->\n",
       "<g class=\"node\" id=\"node12\"><title>4569213072</title>\n",
       "<polygon fill=\"none\" points=\"137.978,-0.5 137.978,-36.5 247.665,-36.5 247.665,-0.5 137.978,-0.5\" stroke=\"black\"/>\n",
       "<text font-family=\"Times,serif\" font-size=\"14.00\" text-anchor=\"middle\" x=\"192.821\" y=\"-14.3\">dense_2 (Dense)</text>\n",
       "</g>\n",
       "<!-- 4569228816&#45;&gt;4569213072 -->\n",
       "<g class=\"edge\" id=\"edge12\"><title>4569228816-&gt;4569213072</title>\n",
       "<path d=\"M192.821,-73.3129C192.821,-65.2895 192.821,-55.5475 192.821,-46.5691\" fill=\"none\" stroke=\"black\"/>\n",
       "<polygon fill=\"black\" points=\"196.321,-46.5288 192.821,-36.5288 189.321,-46.5289 196.321,-46.5288\" stroke=\"black\"/>\n",
       "</g>\n",
       "</g>\n",
       "</svg>"
      ],
      "text/plain": [
       "<IPython.core.display.SVG object>"
      ]
     },
     "execution_count": 2,
     "metadata": {},
     "output_type": "execute_result"
    }
   ],
   "source": [
    "from IPython.display import SVG\n",
    "from keras.utils.visualize_util import model_to_dot\n",
    "\n",
    "SVG(model_to_dot(model).create(prog='dot', format='svg'))"
   ]
  },
  {
   "cell_type": "code",
   "execution_count": 207,
   "metadata": {
    "collapsed": false,
    "scrolled": false
   },
   "outputs": [
    {
     "name": "stdout",
     "output_type": "stream",
     "text": [
      "Epoch 1/10\n",
      "2/2 [==============================] - 0s - loss: 0.6931 - acc: 0.5000\n",
      "Epoch 2/10\n",
      "2/2 [==============================] - 0s - loss: 0.6931 - acc: 0.5000\n",
      "Epoch 3/10\n",
      "2/2 [==============================] - 0s - loss: 0.6931 - acc: 0.5000\n",
      "Epoch 4/10\n",
      "2/2 [==============================] - 0s - loss: 0.6931 - acc: 0.5000\n",
      "Epoch 5/10\n",
      "2/2 [==============================] - 0s - loss: 0.6931 - acc: 0.5000\n",
      "Epoch 6/10\n",
      "2/2 [==============================] - 0s - loss: 0.6931 - acc: 0.5000\n",
      "Epoch 7/10\n",
      "2/2 [==============================] - 0s - loss: 0.6931 - acc: 0.5000\n",
      "Epoch 8/10\n",
      "2/2 [==============================] - 0s - loss: 0.6931 - acc: 0.5000\n",
      "Epoch 9/10\n",
      "2/2 [==============================] - 0s - loss: 0.6931 - acc: 0.5000\n",
      "Epoch 10/10\n",
      "2/2 [==============================] - 0s - loss: 0.6931 - acc: 0.5000\n"
     ]
    },
    {
     "data": {
      "text/plain": [
       "<keras.callbacks.History at 0x7f8049deacd0>"
      ]
     },
     "execution_count": 207,
     "metadata": {},
     "output_type": "execute_result"
    }
   ],
   "source": [
    "from keras.utils.np_utils import to_categorical\n",
    "\n",
    "X_train = np.array([[4, 2, 1, 2, 4, 2, 3, 1, 2, 3, 2, 1],\n",
    "                    [4, 2, 1, 2, 4, 2, 3, 1, 2, 3, 2, 1]])\n",
    "y = to_categorical([1, 0])\n",
    "\n",
    "model.fit(X_train, y)"
   ]
  }
 ],
 "metadata": {
  "anaconda-cloud": {},
  "kernelspec": {
   "display_name": "Python [default]",
   "language": "python",
   "name": "python2"
  },
  "language_info": {
   "codemirror_mode": {
    "name": "ipython",
    "version": 2
   },
   "file_extension": ".py",
   "mimetype": "text/x-python",
   "name": "python",
   "nbconvert_exporter": "python",
   "pygments_lexer": "ipython2",
   "version": "2.7.12"
  }
 },
 "nbformat": 4,
 "nbformat_minor": 0
}
