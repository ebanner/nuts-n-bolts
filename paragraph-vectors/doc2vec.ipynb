{
 "cells": [
  {
   "cell_type": "markdown",
   "metadata": {},
   "source": [
    "### Define Documents"
   ]
  },
  {
   "cell_type": "code",
   "execution_count": 6,
   "metadata": {
    "collapsed": false,
    "scrolled": false
   },
   "outputs": [
    {
     "name": "stdout",
     "output_type": "stream",
     "text": [
      "********************************************************************************\n",
      "\n",
      "in recent years the treatment of primary nocturnal enuresis ( pne ) with desmopressin ( ddavp ) has been promising . the route of administration until now had been intranasal , but because the tablets were introduced for the treatment of diabetes insipidus they have also become available for the treatment of pne . to find the optimal dosage of desmopressin tablets and to compare desmopressin 's efficacy with placebo in a group of adolescents with severe monosymptomatic enuresis . the long-term safety of desmopressin was also studied in the same group of patients . the effect of oral desmopressin ( qqq ) ( ddavp tablets , minirin ) was investigated in qqq adolescents ( ages qqq to qqq years ) with severe monosymptomatic nocturnal enuresis . the first part of the dose-ranging study comprised a single-blind dose titration period , followed by a double-blind , crossover efficacy period comparing desmopressin with placebo . the final part was an open long-term study consisting of two qqq treatment periods . the efficacy of the drug was measured in reductions of the number of wet nights per week . during the first dose-titration period , the majority of the patients were given desmopressin qqq micrograms , and the number of wet nights decreased from a mean of qqq to qqq . during the double-blind period , a significant reduction of wet nights was observed ( qqq vs qqq for placebo ) . during the two long-term periods , qqq % and qqq % of the patients could be classified as responders ( qqq to qqq wet night per week ) and qqq % and qqq % as intermediate responders ( qqq to qqq wet nights per week ) . no weight gain was observed due to water retention . after cessation of the drug , qqq % of the patients had a significant decrease in the number of wet nights . oral desmopressin has a clinically significant effect on patients with pne , and therapy is safe when administered as long-term treatment .\n",
      "\n",
      "********************************************************************************\n",
      "\n",
      "monosymptomatic nocturnal enuresis is common in healthy school children . treatment is often required because of social and psychological convenience . we therefore conducted a randomized prospective trial using either desmopressin ( d ) or alarm ( a ) . patients ( n = qqq ) aged qqq to qqq years were enrolled between january qqq and december qqq . desmopressin ( minirin spray , ferring sa ) was given intranasally at a dose of qqq micrograms at bedtime and increased to qqq micrograms after qqq weeks if partial result was obtained . the alarm was a pad-bell device ( wet-stop , sega ) and the sound source was attached to the upper part of the pajamas . inclusion criteria were : primary monosymptomatic nocturnal enuresis in healthy children , age > or = qqq years , absence of previous treatment using either desmopressin or alarm . the aim of the treatment was to achieve qqq % dry nights . patients were evaluated after qqq days on therapy by phone call and thereafter by attending the outpatient clinic at qqq and qqq months . at the time of the second evaluation , a switch from alarm to desmopressin ( or vice-versa ) was proposed to those who did not respond to the initial treatment . in group d ( n = qqq ) , only qqq children were included since qqq ( qqq % ) were switched to alarm and qqq ( qqq % ) were excluded because they were either non-compliant or lost to follow-up . in group a ( n = qqq ) , only qqq were included since six ( qqq % ) were switched to desmopressin and qqq ( qqq % ) were excluded for the same reasons as in group d. prior to inclusion , the percentage of dry nights was qqq % in group d and qqq % in group a . after qqq days on therapy , patients from group d achieved qqq % dry nights compared to qqq % in group a ( p = qqq ) . after qqq months , patients from group d attained qqq % dry nights vs qqq % in group a . after qqq months , children from group a achieved qqq % dry nights vs qqq % in group d ( p = qqq ) . desmopressin offers better short-term results than enuresis alarm but the latter is significantly more efficient in the long term . in france , the alarm device is not reimbursed by the national health service and therefore is poorly accepted , as suggested from the high rate of patients lost to follow-up .\n",
      "\n",
      "********************************************************************************\n",
      "\n",
      "forty-five children aged qqq years with primary nocturnal enuresis were randomised to determine whether desmopressin is more effective than amitriptyline and whether the combination of amitriptyline/desmopressin is more effective than amitriptyline or desmopressin alone . amitriptyline dosage was qqq mg for children qqq years and qqq mg for children aged qqq years . desmopressin ( qqq micrograms ) was given in the same dosage for all age groups . after a run-in period of qqq weeks , children were treated for qqq weeks and then observed for qqq weeks . in the amitriptyline group mean wet nights per week decreased from qqq +/- qqq to qqq +/- qqq ( p < qqq ) ; in the desmopressin group mean wet nights per week decreased from qqq +/- qqq to qqq +/- qqq ( p < qqq ) ; in the amitriptyline/desmopressin group mean wet nights per week decreased from qqq +/- qqq to qqq +/- qqq ( p < qqq ) . when comparing the groups , amitriptyline/desmopressin and amitriptyline were statistically more effective than desmopressin in week qqq ( p < qqq ) , week qqq ( p < qqq ) and week qqq ( p < qqq ) . no significant side effects occurred . at this dose amitriptyline was more effective than desmopressin and the combination of desmopressin and amitriptyline did not confer any additional benefit .\n",
      "\n",
      "********************************************************************************\n",
      "\n",
      "a double blind crossover trial of qqq micrograms intranasal qqq vasopressin ( ddavp ) versus placebo was carried out in qqq children with intractable enuresis aged between qqq and qqq years who had failed to respond to drugs and an enuresis alarm . fluid intake was not restricted . there was a significant reduction in the number of wet nights . seven children ( qqq % ) were cured or showed considerable improvement , with strong evidence against any placebo effect . the best response was seen in children aged qqq years or over and if urine osmolality after ddavp reached beyond qqq mmol/kg or was already at this concentration . the degree of overnight rise in urine osmolality after treatment with ddavp was not predictable but correlated well with the clinical improvement in nocturnal diuresis present in eight of the children . a further qqq children with equally refractory enuresis were given qqq micrograms of the active drug to take during their school journeys or holidays . six of them had previously normal overnight urine osmolalities with only two successes , but of the six who had nocturnal diuresis before treatment , five became dry , suggesting that ddavp acts largely by anti-diuresis and might be most useful in children with nocturnal polyuria .\n",
      "\n",
      "********************************************************************************\n",
      "\n",
      "to measure the effect of intranasal desmopressin ( l-deamino qqq vasopressin , ddavp ) on urine osmolality in a group of patients with persistent primary enuresis , and to determine whether changes in osmolality can the predict response to treatment . thirty-seven patients with persistent primary nocturnal enuresis were entered into a double-blind placebo-controlled crossover trial of qqq micrograms intranasal ddavp spray . morning urinary osmolality was measured on two occasions during each phase of treatment and the clinical response recorded in a diary . thirty-one patients ( qqq males and nine females ) were evaluable at the end of the trial period . a good clinical response , defined as enuresis on two nights or fewer each week , occurred in qqq of qqq ( qqq % ) patients , but complete continence was attained in only two . the response was better in older patients and in those with less frequent enuresis . the mean and peak urinary osmolality of the morning urine samples were higher while on treatment with ddavp compared with placebo , but this difference was not statistically significant and the response did not predict a good clinical outcome in improving the enuresis . treatment with ddavp can produce a socially acceptable level of dryness in some patients with refractory nocturnal enuresis . however , the early morning urinary osmolality , as a reflection of changes in nocturnal osmolality , was not useful in distinguishing this group or in selecting those who will respond to treatment .\n",
      "\n"
     ]
    }
   ],
   "source": [
    "df = pd.read_csv('../../pico_vectors/preprocess/pico_nonoverlapping_tokenized.csv')\n",
    "docs = df.abstract.ix[:1000].tolist()\n",
    "\n",
    "for doc in docs[:5]:\n",
    "    print '*'*80\n",
    "    print\n",
    "    print doc\n",
    "    print"
   ]
  },
  {
   "cell_type": "markdown",
   "metadata": {},
   "source": [
    "### Define Generator That Yields Documents"
   ]
  },
  {
   "cell_type": "code",
   "execution_count": 7,
   "metadata": {
    "collapsed": true
   },
   "outputs": [],
   "source": [
    "from gensim.models.doc2vec import LabeledSentence\n",
    "\n",
    "class DocumentIterator:\n",
    "    \"\"\"Class for yielding documents for use with doc2vec\n",
    "    \n",
    "    See usage below.\n",
    "    \n",
    "    \"\"\"\n",
    "    def __init__(self, texts):\n",
    "        \"\"\"Prepares `texts` for use with doc2vec\n",
    "        \n",
    "        Parameters\n",
    "        ----------\n",
    "        texts : list of strings where each string is a document\n",
    "        \n",
    "        Assumes `texts` has already been tokenized so calling `split()` on\n",
    "        each text produces correct tokenization.\n",
    "        \n",
    "        \"\"\"\n",
    "        self.texts = [text.split() for text in texts]\n",
    "        \n",
    "    def __iter__(self):\n",
    "        for i, text in enumerate(self.texts):\n",
    "            yield LabeledSentence(words=text, tags=[i])"
   ]
  },
  {
   "cell_type": "markdown",
   "metadata": {},
   "source": [
    "### Define `doc2vec` Model"
   ]
  },
  {
   "cell_type": "code",
   "execution_count": 8,
   "metadata": {
    "collapsed": false
   },
   "outputs": [
    {
     "name": "stdout",
     "output_type": "stream",
     "text": [
      "CPU times: user 4.14 s, sys: 37.7 ms, total: 4.18 s\n",
      "Wall time: 4.15 s\n"
     ]
    }
   ],
   "source": [
    "%%time\n",
    "\n",
    "from gensim.models import Doc2Vec\n",
    "\n",
    "doc_iterator = DocumentIterator(docs)\n",
    "model = Doc2Vec(doc_iterator)\n",
    "\n",
    "model"
   ]
  },
  {
   "cell_type": "markdown",
   "metadata": {},
   "source": [
    "### Estimate Vectors"
   ]
  },
  {
   "cell_type": "code",
   "execution_count": 9,
   "metadata": {
    "collapsed": false
   },
   "outputs": [
    {
     "name": "stdout",
     "output_type": "stream",
     "text": [
      "CPU times: user 4.15 s, sys: 25.2 ms, total: 4.17 s\n",
      "Wall time: 4.32 s\n"
     ]
    },
    {
     "data": {
      "text/plain": [
       "1196020"
      ]
     },
     "execution_count": 9,
     "metadata": {},
     "output_type": "execute_result"
    }
   ],
   "source": [
    "%%time\n",
    "\n",
    "model.train(doc_iterator)"
   ]
  },
  {
   "cell_type": "markdown",
   "metadata": {},
   "source": [
    "### Access Learned Document Vectors"
   ]
  },
  {
   "cell_type": "code",
   "execution_count": 10,
   "metadata": {
    "collapsed": false
   },
   "outputs": [
    {
     "data": {
      "text/plain": [
       "(300,)"
      ]
     },
     "execution_count": 10,
     "metadata": {},
     "output_type": "execute_result"
    }
   ],
   "source": [
    "model.docvecs[0].shape"
   ]
  },
  {
   "cell_type": "markdown",
   "metadata": {},
   "source": [
    "### Infer Held-Out Document Vectors"
   ]
  },
  {
   "cell_type": "code",
   "execution_count": 11,
   "metadata": {
    "collapsed": false
   },
   "outputs": [
    {
     "name": "stdout",
     "output_type": "stream",
     "text": [
      "********************************************************************************\n",
      "\n",
      "a randomized , single-center , double-blind , parallel-group , placebo-controlled trial evaluated the whitening efficacy and safety of qqq , twice-daily use of a qqq % hydrogen peroxide tooth-bleaching gel delivered on polyethylene film . efficacy was based on change in vita shade scores from baseline to the end of treatment . thirty-three patients in each group completed treatment . use of the peroxide-containing gel led to a mean change in baseline vita shade score of qqq +/- qqq , compared with a change of qqq +/- qqq after use of a placebo gel . after adjustment for baseline scores , the mean difference in shade change between the peroxide gel-treated group and placebo-treated group was qqq +/- qqq ( p < qqq ) . both treatments were generally well tolerated . the strips offer ease of use , comfort , and shorter duration of wear compared with other at-home bleaching systems .\n",
      "\n",
      "********************************************************************************\n",
      "\n",
      "the objective of this randomized , controlled , examiner-blind , parallel-group clinical study was to determine whether a tooth-whitening gel ( colgate simply white night clear whitening gel ) can significantly lighten teeth when used once daily at night , as compared with a commercially available dentifrice . following a baseline tooth shade evaluation using the vita shade guide , qualifying adult male and female subjects from the buffalo , new york area were randomized into qqq treatment groups , which were balanced for baseline vita shade guide scores , gender , and age . the treatment groups were : ( qqq ) a commercially available dentifrice only ; and ( qqq ) a tooth-whitening gel in addition to a commercially available dentifrice . subjects assigned to the qqq groups were given the dentifrice and a soft-bristled toothbrush . in addition , subjects in one of the groups were given the tooth-whitening gel . all subjects were instructed to brush their teeth for qqq minute twice daily ( morning and evening ) with the dentifrice . the subjects in the group also using the tooth-whitening gel were further instructed to apply the gel once daily at night , as per manufacturer instructions . evaluations of tooth shade for each subject were repeated after qqq weeks , and again after qqq weeks of product use . in addition , evaluations of tooth shade for subjects using the tooth-whitening gel were later conducted at qqq months after product use . seventy-five subjects complied with the protocol and completed the study . at the qqq and qqq examinations , subjects using the tooth-whitening gel and dentifrice exhibited statistically significant ( p < qqq ) tooth shade lightening relative to baseline tooth shade . furthermore , at the qqq and qqq examinations , subjects using the tooth-whitening gel exhibited statistically significant ( p < qqq ) tooth shade lightening relative to subjects using only the dentifrice . in addition , the qqq examination showed that subjects using the tooth-whitening gel exhibited statistically significant ( p < qqq ) tooth shade lightening relative to baseline , thereby maintaining the tooth shade lightening that was evident at qqq weeks . the results of this clinical study indicate that after once-daily use at night for qqq or qqq weeks , the tooth-whitening gel provided statistically significant tooth shade lightening relative to baseline tooth shade for up to at least qqq months and also provided statistically significant tooth shade lightening relative to a commercially available dentifrice after qqq and qqq weeks of product use .\n",
      "\n",
      "********************************************************************************\n",
      "\n",
      "a randomized , double blind clinical trial was conducted to evaluate initial color improvement and post-treatment color retention following vital bleaching with a strip-based tooth whitening system . after balancing for baseline color , qqq healthy adults were randomized to either whitening strips with a qqq % hydrogen peroxide bleaching gel ( crest whitestrips ) or placebo strips without hydrogen peroxide . maxillary and mandibular anterior teeth were treated twice daily for qqq minutes each over a qqq period , and efficacy was measured objectively by comparing digital images of teeth collected at baseline , end-of-treatment ( week qqq ) and qqq months after treatment ( month qqq ) . the whitening strip group experienced a highly significant ( p < qqq ) reduction in yellow of qqq deltab* units versus baseline and qqq deltab* units versus placebo , with similar results noted for the other color parameters in the study . most of the initial color change remained at qqq months post-treatment , with the whitening strip group continuing to demonstrate highly significant ( p < qqq ) improvements in tooth color relative to baseline and placebo . age was found to significantly contribute to initial color improvement , with younger subjects experiencing a greater initial reduction in yellowness compared to older participants , but not to post-treatment color retention . the whitening strips were well tolerated , with minor tooth sensitivity and oral irritation representing the most common findings during treatment . there were no persistent or new treatment-related adverse events during the qqq monitoring period .\n",
      "\n",
      "********************************************************************************\n",
      "\n",
      "a randomized , parallel , examiner-blind clinical trial was conducted to compare two professionally dispensed vital bleaching systems . a total of qqq subjects were randomized to either the crest professional whitestrips system or the nite white excel qqq tray system , balancing for baseline tooth color . during the qqq treatment period , subjects were instructed to use the strip system for one-half hour twice daily ( qqq contact hours ) and the tray system for qqq hours daily ( qqq contact hours ) . only the maxillary teeth were treated , and all bleaching was unsupervised . whitening was measured objectively by comparing digital images of the maxillary anterior dentition at pretreatment and posttreatment . compared with baseline , both the strip and tray systems exhibited statistically significant decreases ( p < qqq ) in yellowness ( delta b* ) and increases in brightness ( delta l* ) . compared with the tray-system group , the strip-system group experienced significant additional whitening ( p < qqq ) , as evidenced by a qqq % to qqq % improvement in tooth color ( delta b* , delta l* , and delta e* ) after qqq days . both systems were generally well tolerated , and none of the subjects discontinued treatment early because of an adverse event . under the conditions tested , this clinical trial demonstrates that the qqq treatment with the strip system resulted in superior whitening efficacy compared with the qqq treatment with the tray system .\n",
      "\n",
      "********************************************************************************\n",
      "\n",
      "a qqq study was conducted to evaluate the tooth-whitening efficacy of colgate platinum professional toothwhitening system vs rembrandt lighten bleaching gel . thirty-eight subjects completed this single-blind , randomized , parallel clinical study . the subjects were balanced into two groups based on a minimal shade of qqq on the vita shade guide . the duration of product use was qqq minutes , twice daily for qqq weeks . change in toodth color was measured by reflectance spectroscopy using a colorimeter . the readings were taken in the l* , a* , and b* color space at the initiation of the study , at qqq week , and at qqq weeks . calculation of color change ( deltae ) was performed using the color difference equation established by the commission international de l'eclairage . results demonstated that colgate platinum was qqq % more effective at tooth whitening after qqq week , and qqq % more effective after qqq weeks of treatment . the results demonstrated that the colgate product was significantly superior vs rembrandt at increasing tooth whiteness ( increase in deltae ) , and tooth lightness ( increase in deltal* ) . no adverse reations were noted on clinical examination .\n",
      "\n"
     ]
    }
   ],
   "source": [
    "unseen_docs = df.abstract.ix[1000:1005].tolist()\n",
    "\n",
    "for doc in unseen_docs[:5]:\n",
    "    print '*'*80\n",
    "    print\n",
    "    print doc\n",
    "    print"
   ]
  },
  {
   "cell_type": "code",
   "execution_count": 13,
   "metadata": {
    "collapsed": false
   },
   "outputs": [
    {
     "data": {
      "text/plain": [
       "array([[ 0.07745719, -0.15868787,  0.14197631, ...,  0.33927324,\n",
       "         0.69629043, -0.69323844],\n",
       "       [ 0.3235735 , -0.37674075, -0.0168117 , ...,  0.50764775,\n",
       "         1.17010558, -1.07063079],\n",
       "       [ 0.22329953, -0.18562463,  0.11352905, ...,  0.48121351,\n",
       "         0.92684823, -0.80472386],\n",
       "       [ 0.22682899, -0.21429279,  0.11964899, ...,  0.48293811,\n",
       "         0.88048631, -0.76078665],\n",
       "       [ 0.19689141, -0.24297367,  0.11889167, ...,  0.52631259,\n",
       "         0.82017297, -0.71348065],\n",
       "       [ 0.26055565, -0.34508079,  0.07482557, ...,  0.4912422 ,\n",
       "         1.09229517, -0.96335256]], dtype=float32)"
      ]
     },
     "execution_count": 13,
     "metadata": {},
     "output_type": "execute_result"
    }
   ],
   "source": [
    "inferred_vecs = np.array([model.infer_vector(doc) for doc in unseen_docs])\n",
    "\n",
    "inferred_vecs"
   ]
  },
  {
   "cell_type": "code",
   "execution_count": 14,
   "metadata": {
    "collapsed": false
   },
   "outputs": [
    {
     "data": {
      "text/plain": [
       "(6, 300)"
      ]
     },
     "execution_count": 14,
     "metadata": {},
     "output_type": "execute_result"
    }
   ],
   "source": [
    "inferred_vecs.shape"
   ]
  }
 ],
 "metadata": {
  "anaconda-cloud": {},
  "kernelspec": {
   "display_name": "Python [conda env:py27]",
   "language": "python",
   "name": "conda-env-py27-py"
  },
  "language_info": {
   "codemirror_mode": {
    "name": "ipython",
    "version": 2
   },
   "file_extension": ".py",
   "mimetype": "text/x-python",
   "name": "python",
   "nbconvert_exporter": "python",
   "pygments_lexer": "ipython2",
   "version": "2.7.12"
  }
 },
 "nbformat": 4,
 "nbformat_minor": 1
}
