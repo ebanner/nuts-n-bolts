{
 "cells": [
  {
   "cell_type": "markdown",
   "metadata": {},
   "source": [
    "### Define Documents"
   ]
  },
  {
   "cell_type": "code",
   "execution_count": 1,
   "metadata": {
    "collapsed": false,
    "scrolled": true
   },
   "outputs": [
    {
     "data": {
      "text/plain": [
       "0       in recent years the treatment of primary noctu...\n",
       "1       monosymptomatic nocturnal enuresis is common i...\n",
       "2       forty-five children aged qqq years with primar...\n",
       "3       a double blind crossover trial of qqq microgra...\n",
       "4       to measure the effect of intranasal desmopress...\n",
       "5       the purpose of this study was to determine the...\n",
       "6       the effect of qqq micrograms . desaminocystein...\n",
       "7       the objective of this multicenter randomized c...\n",
       "8       previous studies have suggested changes in sel...\n",
       "9       desmopressin nasal spray has proved to be effi...\n",
       "10      the response of desamino-d-arginine vasopressi...\n",
       "11      the combination of desmopressin ( ddavp ) and ...\n",
       "12      we tested the role of the bladder in the patho...\n",
       "13      there are many therapeutic options against enu...\n",
       "14      we evaluated the combination of alarm and desm...\n",
       "15      we evaluated the efficacy and safety of qqq or...\n",
       "16      desmopressin acetate , a synthetic antidiureti...\n",
       "17      the effect of intranasal desmopressin on prima...\n",
       "18      twenty-eight children with primary nocturnal e...\n",
       "19      a single blind dose response study of the effe...\n",
       "20      the development of an altered stromal microenv...\n",
       "21      we confirmed findings that oral desmopressin s...\n",
       "22      to compare the efficacy of desmopressin and in...\n",
       "23      a double-blind study of qqq children aged qqq ...\n",
       "24      to characterize the children with enuresis lik...\n",
       "25      to evaluate the efficacy of intranasal desmopr...\n",
       "26      to determine the efficacy and safety of oral d...\n",
       "27      the efficacy and safety of desmopressin ( mini...\n",
       "28      to test the hypothesis that desmopressin facil...\n",
       "29      desmopressin ( qqq [ qqq ] -vasopressin ) ( dd...\n",
       "                              ...                        \n",
       "971     this study evaluated the effectiveness of earl...\n",
       "972     the purpose of this investigation was to study...\n",
       "973     the purpose of this study was to evaluate skel...\n",
       "974     the aim of this study was to evaluate the effe...\n",
       "975     a prospective clinical study with a random all...\n",
       "976     heliox improves lung deposition of inhaled par...\n",
       "977     to determine and define the beneficial effects...\n",
       "978     to compare the effectiveness of a helium-oxyge...\n",
       "979     a prospective blinded , randomized controlled ...\n",
       "980     to evaluate the effectiveness of a helium-oxyg...\n",
       "981     to determine whether breathing a blend of qqq ...\n",
       "982     to evaluate the effect of heliox on airflow ob...\n",
       "983     the purpose of this study was to evaluate the ...\n",
       "984     helium and oxygen mixtures ( heliox ) increase...\n",
       "985     a prospective study on the comparison of the c...\n",
       "986     the swedish patients included in the previous ...\n",
       "987     in most cases of miscarriage , standard proced...\n",
       "988     to ascertain whether a clinically important di...\n",
       "989     thirty-five women with retained products of co...\n",
       "990     in many countries , surgical uterine evacuatio...\n",
       "991     medical management and expectant care have bee...\n",
       "992     approximately qqq % of registered pregnancies ...\n",
       "993     the objective of this randomized , double-blin...\n",
       "994     a qqq study was conducted to compare the tooth...\n",
       "995     a qqq , three-cell study was conducted to eval...\n",
       "996     the purpose of this study was to evaluate the ...\n",
       "997     agents with carbamide peroxide , or cp , in va...\n",
       "998     a double-blind , qqq , randomized , placebo-co...\n",
       "999     bleaching offers a non-interventive way of imp...\n",
       "1000    a randomized , single-center , double-blind , ...\n",
       "Name: abstract, dtype: object"
      ]
     },
     "execution_count": 1,
     "metadata": {},
     "output_type": "execute_result"
    }
   ],
   "source": [
    "df = pd.read_csv('../../pico_vectors/preprocess/pico_nonoverlapping_tokenized.csv')\n",
    "docs = df.abstract.ix[:1000]\n",
    "\n",
    "docs"
   ]
  },
  {
   "cell_type": "markdown",
   "metadata": {},
   "source": [
    "### Define Generator That Yields Documents"
   ]
  },
  {
   "cell_type": "code",
   "execution_count": 2,
   "metadata": {
    "collapsed": true
   },
   "outputs": [],
   "source": [
    "from gensim.models.doc2vec import LabeledSentence\n",
    "\n",
    "class DocumentIterator:\n",
    "    \"\"\"Class for yielding documents for use with doc2vec\n",
    "    \n",
    "    See usage below.\n",
    "    \n",
    "    \"\"\"\n",
    "    def __init__(self, texts):\n",
    "        \"\"\"Prepares `texts` for use with doc2vec\n",
    "        \n",
    "        Parameters\n",
    "        ----------\n",
    "        texts : list of strings where each string is a document\n",
    "        \n",
    "        Assumes `texts` has already been tokenized so calling `split()` on each text produces correct tokenization\n",
    "        \n",
    "        \"\"\"\n",
    "        self.texts = [text.split() for text in texts]\n",
    "        \n",
    "    def __iter__(self):\n",
    "        for i, text in enumerate(self.texts):\n",
    "            yield LabeledSentence(words=text, tags=[i])"
   ]
  },
  {
   "cell_type": "markdown",
   "metadata": {},
   "source": [
    "### Define `doc2vec` Model"
   ]
  },
  {
   "cell_type": "code",
   "execution_count": 3,
   "metadata": {
    "collapsed": false
   },
   "outputs": [
    {
     "name": "stdout",
     "output_type": "stream",
     "text": [
      "CPU times: user 4.41 s, sys: 47.2 ms, total: 4.46 s\n",
      "Wall time: 4.49 s\n"
     ]
    }
   ],
   "source": [
    "%%time\n",
    "\n",
    "from gensim.models import Doc2Vec\n",
    "\n",
    "doc_iterator = DocumentIterator(docs)\n",
    "model = Doc2Vec(doc_iterator)\n",
    "\n",
    "model"
   ]
  },
  {
   "cell_type": "markdown",
   "metadata": {},
   "source": [
    "### Estimate Vectors"
   ]
  },
  {
   "cell_type": "code",
   "execution_count": 4,
   "metadata": {
    "collapsed": false
   },
   "outputs": [
    {
     "name": "stdout",
     "output_type": "stream",
     "text": [
      "CPU times: user 3.81 s, sys: 22.5 ms, total: 3.84 s\n",
      "Wall time: 3.78 s\n"
     ]
    },
    {
     "data": {
      "text/plain": [
       "1196020"
      ]
     },
     "execution_count": 4,
     "metadata": {},
     "output_type": "execute_result"
    }
   ],
   "source": [
    "%%time\n",
    "\n",
    "model.train(doc_iterator)"
   ]
  },
  {
   "cell_type": "markdown",
   "metadata": {},
   "source": [
    "### Access Learned Document Vectors"
   ]
  },
  {
   "cell_type": "code",
   "execution_count": 10,
   "metadata": {
    "collapsed": false
   },
   "outputs": [
    {
     "data": {
      "text/plain": [
       "(300,)"
      ]
     },
     "execution_count": 10,
     "metadata": {},
     "output_type": "execute_result"
    }
   ],
   "source": [
    "model.docvecs[0].shape"
   ]
  },
  {
   "cell_type": "markdown",
   "metadata": {},
   "source": [
    "### Infer Held-Out Document Vectors"
   ]
  },
  {
   "cell_type": "code",
   "execution_count": 12,
   "metadata": {
    "collapsed": false
   },
   "outputs": [
    {
     "data": {
      "text/plain": [
       "1000    a randomized , single-center , double-blind , ...\n",
       "1001    the objective of this randomized , controlled ...\n",
       "1002    a randomized , double blind clinical trial was...\n",
       "1003    a randomized , parallel , examiner-blind clini...\n",
       "1004    a qqq study was conducted to evaluate the toot...\n",
       "1005    use of higher peroxide concentrations for prof...\n",
       "Name: abstract, dtype: object"
      ]
     },
     "execution_count": 12,
     "metadata": {},
     "output_type": "execute_result"
    }
   ],
   "source": [
    "unseen_docs = df.abstract.ix[1000:1005]\n",
    "\n",
    "unseen_docs"
   ]
  },
  {
   "cell_type": "code",
   "execution_count": 21,
   "metadata": {
    "collapsed": false
   },
   "outputs": [
    {
     "data": {
      "text/plain": [
       "array([[ 0.07970984, -0.14096403,  0.11800314, ...,  0.35160595,\n",
       "         0.69981235, -0.662099  ],\n",
       "       [ 0.32674381, -0.35907531, -0.00300364, ...,  0.51928061,\n",
       "         1.12972021, -1.05375862],\n",
       "       [ 0.21505025, -0.16708635,  0.09556082, ...,  0.46429375,\n",
       "         0.93233228, -0.78965753],\n",
       "       [ 0.21153228, -0.21771871,  0.0860255 , ...,  0.4791835 ,\n",
       "         0.89987493, -0.75414461],\n",
       "       [ 0.18389668, -0.17064688,  0.10758507, ...,  0.47385469,\n",
       "         0.80411059, -0.69640261],\n",
       "       [ 0.24771205, -0.29678506,  0.07840282, ...,  0.46096483,\n",
       "         1.06304634, -0.94310045]], dtype=float32)"
      ]
     },
     "execution_count": 21,
     "metadata": {},
     "output_type": "execute_result"
    }
   ],
   "source": [
    "inferred_vecs = unseen_docs.map(lambda doc: model.infer_vector(doc))\n",
    "inferred_vecs = np.array(inferred_vecs.tolist())\n",
    "\n",
    "inferred_vecs"
   ]
  },
  {
   "cell_type": "code",
   "execution_count": 22,
   "metadata": {
    "collapsed": false
   },
   "outputs": [
    {
     "data": {
      "text/plain": [
       "(6, 300)"
      ]
     },
     "execution_count": 22,
     "metadata": {},
     "output_type": "execute_result"
    }
   ],
   "source": [
    "inferred_vecs.shape"
   ]
  }
 ],
 "metadata": {
  "anaconda-cloud": {},
  "kernelspec": {
   "display_name": "Python [conda env:py27]",
   "language": "python",
   "name": "conda-env-py27-py"
  },
  "language_info": {
   "codemirror_mode": {
    "name": "ipython",
    "version": 2
   },
   "file_extension": ".py",
   "mimetype": "text/x-python",
   "name": "python",
   "nbconvert_exporter": "python",
   "pygments_lexer": "ipython2",
   "version": "2.7.12"
  }
 },
 "nbformat": 4,
 "nbformat_minor": 1
}
