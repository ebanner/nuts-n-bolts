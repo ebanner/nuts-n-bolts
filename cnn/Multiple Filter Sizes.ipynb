{
 "cells": [
  {
   "cell_type": "markdown",
   "metadata": {},
   "source": [
    "# Minimal CNN\n",
    "\n",
    "Code for playing around with various architectures."
   ]
  },
  {
   "cell_type": "markdown",
   "metadata": {},
   "source": [
    "### Hyperparameters"
   ]
  },
  {
   "cell_type": "code",
   "execution_count": 1,
   "metadata": {
    "collapsed": true
   },
   "outputs": [],
   "source": [
    "max_doclen = 3\n",
    "word_dim, vocab_size = 5, 10\n",
    "nb_filter, filter_len = 50, 1\n",
    "filter_lens = [1, 2, 3]\n",
    "\n",
    "nb_class = 2"
   ]
  },
  {
   "cell_type": "markdown",
   "metadata": {},
   "source": [
    "### Define Model"
   ]
  },
  {
   "cell_type": "code",
   "execution_count": 2,
   "metadata": {
    "collapsed": false
   },
   "outputs": [
    {
     "name": "stderr",
     "output_type": "stream",
     "text": [
      "Using Theano backend.\n"
     ]
    },
    {
     "name": "stdout",
     "output_type": "stream",
     "text": [
      "____________________________________________________________________________________________________\n",
      "Layer (type)                     Output Shape          Param #     Connected to                     \n",
      "====================================================================================================\n",
      "input_1 (InputLayer)             (None, 3)             0                                            \n",
      "____________________________________________________________________________________________________\n",
      "embedding_1 (Embedding)          (None, 3, 5)          50          input_1[0][0]                    \n",
      "____________________________________________________________________________________________________\n",
      "convolution1d_1 (Convolution1D)  (None, 3, 50)         300         embedding_1[0][0]                \n",
      "____________________________________________________________________________________________________\n",
      "convolution1d_2 (Convolution1D)  (None, 2, 50)         550         embedding_1[0][0]                \n",
      "____________________________________________________________________________________________________\n",
      "convolution1d_3 (Convolution1D)  (None, 1, 50)         800         embedding_1[0][0]                \n",
      "____________________________________________________________________________________________________\n",
      "maxpooling1d_1 (MaxPooling1D)    (None, 1, 50)         0           convolution1d_1[0][0]            \n",
      "____________________________________________________________________________________________________\n",
      "maxpooling1d_2 (MaxPooling1D)    (None, 1, 50)         0           convolution1d_2[0][0]            \n",
      "____________________________________________________________________________________________________\n",
      "maxpooling1d_3 (MaxPooling1D)    (None, 1, 50)         0           convolution1d_3[0][0]            \n",
      "____________________________________________________________________________________________________\n",
      "flatten_1 (Flatten)              (None, 50)            0           maxpooling1d_1[0][0]             \n",
      "____________________________________________________________________________________________________\n",
      "flatten_2 (Flatten)              (None, 50)            0           maxpooling1d_2[0][0]             \n",
      "____________________________________________________________________________________________________\n",
      "flatten_3 (Flatten)              (None, 50)            0           maxpooling1d_3[0][0]             \n",
      "____________________________________________________________________________________________________\n",
      "merge_1 (Merge)                  (None, 150)           0           flatten_1[0][0]                  \n",
      "                                                                   flatten_2[0][0]                  \n",
      "                                                                   flatten_3[0][0]                  \n",
      "____________________________________________________________________________________________________\n",
      "dense_1 (Dense)                  (None, 2)             302         merge_1[0][0]                    \n",
      "====================================================================================================\n",
      "Total params: 2002\n",
      "____________________________________________________________________________________________________\n"
     ]
    }
   ],
   "source": [
    "from keras.layers import Input, Embedding, Dense\n",
    "from keras.layers import Convolution1D, MaxPooling1D, Flatten, merge\n",
    "from keras.models import Model\n",
    "\n",
    "input = Input(shape=[max_doclen], dtype='int32')\n",
    "\n",
    "embedded = Embedding(output_dim=word_dim, input_dim=vocab_size, input_length=max_doclen, weights=None)(input)\n",
    "\n",
    "activations = [0]*len(filter_lens)\n",
    "for i, filter_len in enumerate(filter_lens):\n",
    "    convolved = Convolution1D(nb_filter=nb_filter,\n",
    "                              filter_length=filter_len,\n",
    "                              activation='relu')(embedded)\n",
    "    max_pooled = MaxPooling1D(pool_length=max_doclen-filter_len+1)(convolved) # max-1 pooling\n",
    "    flattened = Flatten()(max_pooled)\n",
    "\n",
    "    activations[i] = flattened\n",
    "    \n",
    "merged = merge(activations, mode='concat')\n",
    "\n",
    "probs = Dense(nb_class, activation='softmax')(merged)\n",
    "\n",
    "model = Model(input=input, output=probs)\n",
    "model.compile(optimizer='adam', loss='categorical_crossentropy', metrics=['accuracy'])\n",
    "\n",
    "model.summary()"
   ]
  },
  {
   "cell_type": "code",
   "execution_count": 3,
   "metadata": {
    "collapsed": false
   },
   "outputs": [
    {
     "data": {
      "image/svg+xml": [
       "<svg height=\"483pt\" viewBox=\"0.00 0.00 676.82 483.00\" width=\"677pt\" xmlns=\"http://www.w3.org/2000/svg\" xmlns:xlink=\"http://www.w3.org/1999/xlink\">\n",
       "<g class=\"graph\" id=\"graph0\" transform=\"scale(1 1) rotate(0) translate(4 479)\">\n",
       "<title>G</title>\n",
       "<polygon fill=\"white\" points=\"-4,4 -4,-479 672.824,-479 672.824,4 -4,4\" stroke=\"none\"/>\n",
       "<!-- 4425821520 -->\n",
       "<g class=\"node\" id=\"node1\"><title>4425821520</title>\n",
       "<polygon fill=\"none\" points=\"267.514,-438.5 267.514,-474.5 401.311,-474.5 401.311,-438.5 267.514,-438.5\" stroke=\"black\"/>\n",
       "<text font-family=\"Times,serif\" font-size=\"14.00\" text-anchor=\"middle\" x=\"334.412\" y=\"-452.3\">input_1 (InputLayer)</text>\n",
       "</g>\n",
       "<!-- 4546606096 -->\n",
       "<g class=\"node\" id=\"node2\"><title>4546606096</title>\n",
       "<polygon fill=\"none\" points=\"249.624,-365.5 249.624,-401.5 419.2,-401.5 419.2,-365.5 249.624,-365.5\" stroke=\"black\"/>\n",
       "<text font-family=\"Times,serif\" font-size=\"14.00\" text-anchor=\"middle\" x=\"334.412\" y=\"-379.3\">embedding_1 (Embedding)</text>\n",
       "</g>\n",
       "<!-- 4425821520&#45;&gt;4546606096 -->\n",
       "<g class=\"edge\" id=\"edge1\"><title>4425821520-&gt;4546606096</title>\n",
       "<path d=\"M334.412,-438.313C334.412,-430.289 334.412,-420.547 334.412,-411.569\" fill=\"none\" stroke=\"black\"/>\n",
       "<polygon fill=\"black\" points=\"337.912,-411.529 334.412,-401.529 330.912,-411.529 337.912,-411.529\" stroke=\"black\"/>\n",
       "</g>\n",
       "<!-- 4555756432 -->\n",
       "<g class=\"node\" id=\"node3\"><title>4555756432</title>\n",
       "<polygon fill=\"none\" points=\"0,-292.5 0,-328.5 210.824,-328.5 210.824,-292.5 0,-292.5\" stroke=\"black\"/>\n",
       "<text font-family=\"Times,serif\" font-size=\"14.00\" text-anchor=\"middle\" x=\"105.412\" y=\"-306.3\">convolution1d_1 (Convolution1D)</text>\n",
       "</g>\n",
       "<!-- 4546606096&#45;&gt;4555756432 -->\n",
       "<g class=\"edge\" id=\"edge2\"><title>4546606096-&gt;4555756432</title>\n",
       "<path d=\"M279.561,-365.494C246.804,-355.338 205.009,-342.379 170.576,-331.704\" fill=\"none\" stroke=\"black\"/>\n",
       "<polygon fill=\"black\" points=\"171.197,-328.232 160.609,-328.614 169.124,-334.918 171.197,-328.232\" stroke=\"black\"/>\n",
       "</g>\n",
       "<!-- 4566392080 -->\n",
       "<g class=\"node\" id=\"node4\"><title>4566392080</title>\n",
       "<polygon fill=\"none\" points=\"229,-292.5 229,-328.5 439.824,-328.5 439.824,-292.5 229,-292.5\" stroke=\"black\"/>\n",
       "<text font-family=\"Times,serif\" font-size=\"14.00\" text-anchor=\"middle\" x=\"334.412\" y=\"-306.3\">convolution1d_2 (Convolution1D)</text>\n",
       "</g>\n",
       "<!-- 4546606096&#45;&gt;4566392080 -->\n",
       "<g class=\"edge\" id=\"edge3\"><title>4546606096-&gt;4566392080</title>\n",
       "<path d=\"M334.412,-365.313C334.412,-357.289 334.412,-347.547 334.412,-338.569\" fill=\"none\" stroke=\"black\"/>\n",
       "<polygon fill=\"black\" points=\"337.912,-338.529 334.412,-328.529 330.912,-338.529 337.912,-338.529\" stroke=\"black\"/>\n",
       "</g>\n",
       "<!-- 4566606736 -->\n",
       "<g class=\"node\" id=\"node5\"><title>4566606736</title>\n",
       "<polygon fill=\"none\" points=\"458,-292.5 458,-328.5 668.824,-328.5 668.824,-292.5 458,-292.5\" stroke=\"black\"/>\n",
       "<text font-family=\"Times,serif\" font-size=\"14.00\" text-anchor=\"middle\" x=\"563.412\" y=\"-306.3\">convolution1d_3 (Convolution1D)</text>\n",
       "</g>\n",
       "<!-- 4546606096&#45;&gt;4566606736 -->\n",
       "<g class=\"edge\" id=\"edge4\"><title>4546606096-&gt;4566606736</title>\n",
       "<path d=\"M389.263,-365.494C422.021,-355.338 463.815,-342.379 498.249,-331.704\" fill=\"none\" stroke=\"black\"/>\n",
       "<polygon fill=\"black\" points=\"499.7,-334.918 508.215,-328.614 497.627,-328.232 499.7,-334.918\" stroke=\"black\"/>\n",
       "</g>\n",
       "<!-- 4565926352 -->\n",
       "<g class=\"node\" id=\"node6\"><title>4565926352</title>\n",
       "<polygon fill=\"none\" points=\"1.38965,-219.5 1.38965,-255.5 211.435,-255.5 211.435,-219.5 1.38965,-219.5\" stroke=\"black\"/>\n",
       "<text font-family=\"Times,serif\" font-size=\"14.00\" text-anchor=\"middle\" x=\"106.412\" y=\"-233.3\">maxpooling1d_1 (MaxPooling1D)</text>\n",
       "</g>\n",
       "<!-- 4555756432&#45;&gt;4565926352 -->\n",
       "<g class=\"edge\" id=\"edge5\"><title>4555756432-&gt;4565926352</title>\n",
       "<path d=\"M105.654,-292.313C105.767,-284.289 105.904,-274.547 106.031,-265.569\" fill=\"none\" stroke=\"black\"/>\n",
       "<polygon fill=\"black\" points=\"109.531,-265.577 106.172,-255.529 102.532,-265.479 109.531,-265.577\" stroke=\"black\"/>\n",
       "</g>\n",
       "<!-- 4566608144 -->\n",
       "<g class=\"node\" id=\"node7\"><title>4566608144</title>\n",
       "<polygon fill=\"none\" points=\"229.39,-219.5 229.39,-255.5 439.435,-255.5 439.435,-219.5 229.39,-219.5\" stroke=\"black\"/>\n",
       "<text font-family=\"Times,serif\" font-size=\"14.00\" text-anchor=\"middle\" x=\"334.412\" y=\"-233.3\">maxpooling1d_2 (MaxPooling1D)</text>\n",
       "</g>\n",
       "<!-- 4566392080&#45;&gt;4566608144 -->\n",
       "<g class=\"edge\" id=\"edge6\"><title>4566392080-&gt;4566608144</title>\n",
       "<path d=\"M334.412,-292.313C334.412,-284.289 334.412,-274.547 334.412,-265.569\" fill=\"none\" stroke=\"black\"/>\n",
       "<polygon fill=\"black\" points=\"337.912,-265.529 334.412,-255.529 330.912,-265.529 337.912,-265.529\" stroke=\"black\"/>\n",
       "</g>\n",
       "<!-- 4566876112 -->\n",
       "<g class=\"node\" id=\"node8\"><title>4566876112</title>\n",
       "<polygon fill=\"none\" points=\"457.39,-219.5 457.39,-255.5 667.435,-255.5 667.435,-219.5 457.39,-219.5\" stroke=\"black\"/>\n",
       "<text font-family=\"Times,serif\" font-size=\"14.00\" text-anchor=\"middle\" x=\"562.412\" y=\"-233.3\">maxpooling1d_3 (MaxPooling1D)</text>\n",
       "</g>\n",
       "<!-- 4566606736&#45;&gt;4566876112 -->\n",
       "<g class=\"edge\" id=\"edge7\"><title>4566606736-&gt;4566876112</title>\n",
       "<path d=\"M563.17,-292.313C563.057,-284.289 562.92,-274.547 562.793,-265.569\" fill=\"none\" stroke=\"black\"/>\n",
       "<polygon fill=\"black\" points=\"566.293,-265.479 562.652,-255.529 559.293,-265.577 566.293,-265.479\" stroke=\"black\"/>\n",
       "</g>\n",
       "<!-- 4566261712 -->\n",
       "<g class=\"node\" id=\"node9\"><title>4566261712</title>\n",
       "<polygon fill=\"none\" points=\"95.062,-146.5 95.062,-182.5 211.762,-182.5 211.762,-146.5 95.062,-146.5\" stroke=\"black\"/>\n",
       "<text font-family=\"Times,serif\" font-size=\"14.00\" text-anchor=\"middle\" x=\"153.412\" y=\"-160.3\">flatten_1 (Flatten)</text>\n",
       "</g>\n",
       "<!-- 4565926352&#45;&gt;4566261712 -->\n",
       "<g class=\"edge\" id=\"edge8\"><title>4565926352-&gt;4566261712</title>\n",
       "<path d=\"M117.789,-219.313C123.389,-210.853 130.254,-200.484 136.457,-191.112\" fill=\"none\" stroke=\"black\"/>\n",
       "<polygon fill=\"black\" points=\"139.538,-192.799 142.139,-182.529 133.701,-188.935 139.538,-192.799\" stroke=\"black\"/>\n",
       "</g>\n",
       "<!-- 4566648272 -->\n",
       "<g class=\"node\" id=\"node10\"><title>4566648272</title>\n",
       "<polygon fill=\"none\" points=\"276.062,-146.5 276.062,-182.5 392.762,-182.5 392.762,-146.5 276.062,-146.5\" stroke=\"black\"/>\n",
       "<text font-family=\"Times,serif\" font-size=\"14.00\" text-anchor=\"middle\" x=\"334.412\" y=\"-160.3\">flatten_2 (Flatten)</text>\n",
       "</g>\n",
       "<!-- 4566608144&#45;&gt;4566648272 -->\n",
       "<g class=\"edge\" id=\"edge9\"><title>4566608144-&gt;4566648272</title>\n",
       "<path d=\"M334.412,-219.313C334.412,-211.289 334.412,-201.547 334.412,-192.569\" fill=\"none\" stroke=\"black\"/>\n",
       "<polygon fill=\"black\" points=\"337.912,-192.529 334.412,-182.529 330.912,-192.529 337.912,-192.529\" stroke=\"black\"/>\n",
       "</g>\n",
       "<!-- 4566899856 -->\n",
       "<g class=\"node\" id=\"node11\"><title>4566899856</title>\n",
       "<polygon fill=\"none\" points=\"457.062,-146.5 457.062,-182.5 573.762,-182.5 573.762,-146.5 457.062,-146.5\" stroke=\"black\"/>\n",
       "<text font-family=\"Times,serif\" font-size=\"14.00\" text-anchor=\"middle\" x=\"515.412\" y=\"-160.3\">flatten_3 (Flatten)</text>\n",
       "</g>\n",
       "<!-- 4566876112&#45;&gt;4566899856 -->\n",
       "<g class=\"edge\" id=\"edge10\"><title>4566876112-&gt;4566899856</title>\n",
       "<path d=\"M551.035,-219.313C545.435,-210.853 538.57,-200.484 532.367,-191.112\" fill=\"none\" stroke=\"black\"/>\n",
       "<polygon fill=\"black\" points=\"535.123,-188.935 526.685,-182.529 529.286,-192.799 535.123,-188.935\" stroke=\"black\"/>\n",
       "</g>\n",
       "<!-- 4555176336 -->\n",
       "<g class=\"node\" id=\"node12\"><title>4555176336</title>\n",
       "<polygon fill=\"none\" points=\"277.487,-73.5 277.487,-109.5 391.337,-109.5 391.337,-73.5 277.487,-73.5\" stroke=\"black\"/>\n",
       "<text font-family=\"Times,serif\" font-size=\"14.00\" text-anchor=\"middle\" x=\"334.412\" y=\"-87.3\">merge_1 (Merge)</text>\n",
       "</g>\n",
       "<!-- 4566261712&#45;&gt;4555176336 -->\n",
       "<g class=\"edge\" id=\"edge11\"><title>4566261712-&gt;4555176336</title>\n",
       "<path d=\"M196.766,-146.494C222.102,-136.555 254.277,-123.934 281.147,-113.394\" fill=\"none\" stroke=\"black\"/>\n",
       "<polygon fill=\"black\" points=\"282.753,-116.524 290.785,-109.614 280.197,-110.007 282.753,-116.524\" stroke=\"black\"/>\n",
       "</g>\n",
       "<!-- 4566648272&#45;&gt;4555176336 -->\n",
       "<g class=\"edge\" id=\"edge12\"><title>4566648272-&gt;4555176336</title>\n",
       "<path d=\"M334.412,-146.313C334.412,-138.289 334.412,-128.547 334.412,-119.569\" fill=\"none\" stroke=\"black\"/>\n",
       "<polygon fill=\"black\" points=\"337.912,-119.529 334.412,-109.529 330.912,-119.529 337.912,-119.529\" stroke=\"black\"/>\n",
       "</g>\n",
       "<!-- 4566899856&#45;&gt;4555176336 -->\n",
       "<g class=\"edge\" id=\"edge13\"><title>4566899856-&gt;4555176336</title>\n",
       "<path d=\"M472.058,-146.494C446.723,-136.555 414.547,-123.934 387.677,-113.394\" fill=\"none\" stroke=\"black\"/>\n",
       "<polygon fill=\"black\" points=\"388.627,-110.007 378.04,-109.614 386.071,-116.524 388.627,-110.007\" stroke=\"black\"/>\n",
       "</g>\n",
       "<!-- 4566898896 -->\n",
       "<g class=\"node\" id=\"node13\"><title>4566898896</title>\n",
       "<polygon fill=\"none\" points=\"279.569,-0.5 279.569,-36.5 389.255,-36.5 389.255,-0.5 279.569,-0.5\" stroke=\"black\"/>\n",
       "<text font-family=\"Times,serif\" font-size=\"14.00\" text-anchor=\"middle\" x=\"334.412\" y=\"-14.3\">dense_1 (Dense)</text>\n",
       "</g>\n",
       "<!-- 4555176336&#45;&gt;4566898896 -->\n",
       "<g class=\"edge\" id=\"edge14\"><title>4555176336-&gt;4566898896</title>\n",
       "<path d=\"M334.412,-73.3129C334.412,-65.2895 334.412,-55.5475 334.412,-46.5691\" fill=\"none\" stroke=\"black\"/>\n",
       "<polygon fill=\"black\" points=\"337.912,-46.5288 334.412,-36.5288 330.912,-46.5289 337.912,-46.5288\" stroke=\"black\"/>\n",
       "</g>\n",
       "</g>\n",
       "</svg>"
      ],
      "text/plain": [
       "<IPython.core.display.SVG object>"
      ]
     },
     "execution_count": 3,
     "metadata": {},
     "output_type": "execute_result"
    }
   ],
   "source": [
    "from IPython.display import SVG\n",
    "from keras.utils.visualize_util import model_to_dot\n",
    "\n",
    "SVG(model_to_dot(model).create(prog='dot', format='svg'))"
   ]
  },
  {
   "cell_type": "markdown",
   "metadata": {},
   "source": [
    "### Train Model"
   ]
  },
  {
   "cell_type": "code",
   "execution_count": 4,
   "metadata": {
    "collapsed": false,
    "scrolled": false
   },
   "outputs": [
    {
     "name": "stdout",
     "output_type": "stream",
     "text": [
      "Epoch 1/10\n",
      "2/2 [==============================] - 0s - loss: 0.6937 - acc: 0.5000\n",
      "Epoch 2/10\n",
      "2/2 [==============================] - 0s - loss: 0.6917 - acc: 0.5000\n",
      "Epoch 3/10\n",
      "2/2 [==============================] - 0s - loss: 0.6898 - acc: 1.0000\n",
      "Epoch 4/10\n",
      "2/2 [==============================] - 0s - loss: 0.6884 - acc: 1.0000\n",
      "Epoch 5/10\n",
      "2/2 [==============================] - 0s - loss: 0.6873 - acc: 1.0000\n",
      "Epoch 6/10\n",
      "2/2 [==============================] - 0s - loss: 0.6863 - acc: 1.0000\n",
      "Epoch 7/10\n",
      "2/2 [==============================] - 0s - loss: 0.6852 - acc: 1.0000\n",
      "Epoch 8/10\n",
      "2/2 [==============================] - 0s - loss: 0.6841 - acc: 1.0000\n",
      "Epoch 9/10\n",
      "2/2 [==============================] - 0s - loss: 0.6829 - acc: 1.0000\n",
      "Epoch 10/10\n",
      "2/2 [==============================] - 0s - loss: 0.6816 - acc: 1.0000\n"
     ]
    },
    {
     "data": {
      "text/plain": [
       "<keras.callbacks.History at 0x1107a9150>"
      ]
     },
     "execution_count": 4,
     "metadata": {},
     "output_type": "execute_result"
    }
   ],
   "source": [
    "from keras.utils.np_utils import to_categorical\n",
    "\n",
    "X, y = np.array([[1, 2, 4], [0, 3, 4]]), to_categorical([1, 0])\n",
    "\n",
    "model.fit(X, y)"
   ]
  }
 ],
 "metadata": {
  "anaconda-cloud": {},
  "kernelspec": {
   "display_name": "Python [default]",
   "language": "python",
   "name": "python2"
  },
  "language_info": {
   "codemirror_mode": {
    "name": "ipython",
    "version": 2
   },
   "file_extension": ".py",
   "mimetype": "text/x-python",
   "name": "python",
   "nbconvert_exporter": "python",
   "pygments_lexer": "ipython2",
   "version": "2.7.12"
  }
 },
 "nbformat": 4,
 "nbformat_minor": 0
}
