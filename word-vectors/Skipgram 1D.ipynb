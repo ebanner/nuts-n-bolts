{
 "cells": [
  {
   "cell_type": "markdown",
   "metadata": {},
   "source": [
    "### Text Corpus"
   ]
  },
  {
   "cell_type": "code",
   "execution_count": 2,
   "metadata": {
    "collapsed": false
   },
   "outputs": [
    {
     "data": {
      "text/plain": [
       "['the', 'cat', 'meows', 'and', 'a', 'dog', 'barks']"
      ]
     },
     "execution_count": 2,
     "metadata": {},
     "output_type": "execute_result"
    }
   ],
   "source": [
    "vocabulary = corpus = 'the cat meows and a dog barks'.split()\n",
    "\n",
    "vocabulary"
   ]
  },
  {
   "cell_type": "markdown",
   "metadata": {},
   "source": [
    "### Create Embedding Matrix"
   ]
  },
  {
   "cell_type": "code",
   "execution_count": 3,
   "metadata": {
    "collapsed": false
   },
   "outputs": [
    {
     "data": {
      "text/plain": [
       "the      1.0\n",
       "cat      1.0\n",
       "meows    1.0\n",
       "and      1.0\n",
       "a        1.0\n",
       "dog      1.0\n",
       "barks    1.0\n",
       "dtype: float64"
      ]
     },
     "execution_count": 3,
     "metadata": {},
     "output_type": "execute_result"
    }
   ],
   "source": [
    "E = pd.Series(np.ones(len(vocabulary)))\n",
    "E.index = vocabulary\n",
    "\n",
    "E"
   ]
  },
  {
   "cell_type": "markdown",
   "metadata": {},
   "source": [
    "# Skipgram Forward Pass"
   ]
  },
  {
   "cell_type": "code",
   "execution_count": 9,
   "metadata": {
    "collapsed": false
   },
   "outputs": [
    {
     "data": {
      "text/plain": [
       "('cat', 'meows', 'dog')"
      ]
     },
     "execution_count": 9,
     "metadata": {},
     "output_type": "execute_result"
    }
   ],
   "source": [
    "center_idx, valid_idx, corrupt_idx = 1, 2, 5\n",
    "\n",
    "E.index[center_idx], E.index[valid_idx], E.index[corrupt_idx]"
   ]
  },
  {
   "cell_type": "markdown",
   "metadata": {},
   "source": [
    "### Lookup Emebddings"
   ]
  },
  {
   "cell_type": "code",
   "execution_count": 441,
   "metadata": {
    "collapsed": false
   },
   "outputs": [
    {
     "data": {
      "text/plain": [
       "(1.0, 1.0, 1.0)"
      ]
     },
     "execution_count": 441,
     "metadata": {},
     "output_type": "execute_result"
    }
   ],
   "source": [
    "center, valid, corrupt = E[center_idx], E[valid_idx], E[corrupt_idx]\n",
    "\n",
    "center, valid, corrupt"
   ]
  },
  {
   "cell_type": "markdown",
   "metadata": {},
   "source": [
    "### Compute Scores"
   ]
  },
  {
   "cell_type": "code",
   "execution_count": 442,
   "metadata": {
    "collapsed": false
   },
   "outputs": [
    {
     "data": {
      "text/plain": [
       "(1.0, 1.0)"
      ]
     },
     "execution_count": 442,
     "metadata": {},
     "output_type": "execute_result"
    }
   ],
   "source": [
    "valid_score, corrupt_score = center*valid, center*corrupt\n",
    "\n",
    "valid_score, corrupt_score"
   ]
  },
  {
   "cell_type": "markdown",
   "metadata": {},
   "source": [
    "### Compute Performance"
   ]
  },
  {
   "cell_type": "code",
   "execution_count": 443,
   "metadata": {
    "collapsed": false
   },
   "outputs": [
    {
     "data": {
      "text/plain": [
       "0.0"
      ]
     },
     "execution_count": 443,
     "metadata": {},
     "output_type": "execute_result"
    }
   ],
   "source": [
    "performance = valid_score - corrupt_score\n",
    "\n",
    "performance"
   ]
  },
  {
   "cell_type": "markdown",
   "metadata": {},
   "source": [
    "# Skipgram Backward Pass"
   ]
  },
  {
   "cell_type": "code",
   "execution_count": 444,
   "metadata": {
    "collapsed": false
   },
   "outputs": [
    {
     "data": {
      "text/plain": [
       "array([ 0.,  0.,  1.,  0.,  0., -1.,  0.])"
      ]
     },
     "execution_count": 444,
     "metadata": {},
     "output_type": "execute_result"
    }
   ],
   "source": [
    "dperf = 1\n",
    "\n",
    "dpdvs, dpdcs = 1, -1\n",
    "dvs, dcs = dpdvs*dperf, dpdcs*dperf\n",
    "\n",
    "dvsdvalid, dvsdcenter, dcsdcenter, dcsdcorrupt = center, valid, corrupt, center\n",
    "dcenter, dvalid, dcorrupt = dvsdcenter*dvs + dcsdcenter*dcs, dvsdvalid*dvs, dcsdcorrupt*dcs\n",
    "\n",
    "dvaliddE, dcenterdE, dcorruptdE = np.zeros_like(E), np.zeros_like(E), np.zeros_like(E)\n",
    "dvaliddE[valid_idx] = dcenterdE[center_idx] = dcorruptdE[corrupt_idx] = 1\n",
    "\n",
    "dE = dvaliddE*dvalid + dcenterdE*dcenter + dcorruptdE*dcorrupt\n",
    "\n",
    "dE"
   ]
  },
  {
   "cell_type": "markdown",
   "metadata": {},
   "source": [
    "### Define Entire Skipgram Model"
   ]
  },
  {
   "cell_type": "code",
   "execution_count": 445,
   "metadata": {
    "collapsed": true
   },
   "outputs": [],
   "source": [
    "def skipgram_update(E, center_idx, valid_idx, corrupt_idx):\n",
    "    \n",
    "    # Forward pass\n",
    "    center, valid, corrupt = E[center_idx], E[valid_idx], E[corrupt_idx]\n",
    "    valid_score, corrupt_score = center*valid, center*corrupt\n",
    "    performance = valid_score - corrupt_score\n",
    "    \n",
    "    # Backward pass\n",
    "    dperf = 1\n",
    "\n",
    "    dpdvs, dpdcs = 1, -1\n",
    "    dvs, dcs = dpdvs*dperf, dpdcs*dperf\n",
    "\n",
    "    dvsdvalid, dvsdcenter, dcsdcenter, dcsdcorrupt = center, valid, corrupt, center\n",
    "    dcenter, dvalid, dcorrupt = dvsdcenter*dvs + dcsdcenter*dcs, dvsdvalid*dvs, dcsdcorrupt*dcs\n",
    "\n",
    "    dvaliddE, dcenterdE, dcorruptdE = np.zeros_like(E), np.zeros_like(E), np.zeros_like(E)\n",
    "    dvaliddE[valid_idx] = dcenterdE[center_idx] = dcorruptdE[corrupt_idx] = 1\n",
    "\n",
    "    dE = dvaliddE*dvalid + dcenterdE*dcenter + dcorruptdE*dcorrupt\n",
    "\n",
    "    return dE"
   ]
  },
  {
   "cell_type": "markdown",
   "metadata": {},
   "source": [
    "### Skipgram Pass Generator"
   ]
  },
  {
   "cell_type": "code",
   "execution_count": 649,
   "metadata": {
    "collapsed": false
   },
   "outputs": [],
   "source": [
    "alpha = .05\n",
    "\n",
    "def update(E):\n",
    "    while True:\n",
    "        # Sample center, valid, and corrupt idx\n",
    "        center_idx = np.random.randint(1, 5)\n",
    "        offset = np.random.choice([-1, 1])\n",
    "        other_offset = offset*-1\n",
    "        corrupt_idx = np.random.choice(list(set(range(len(E))) - set([center_idx, offset, other_offset])))\n",
    "        \n",
    "        # Compute embedding gradients\n",
    "        dE = skipgram_update(E, center_idx=1, valid_idx=center_idx+offset, corrupt_idx=corrupt_idx)\n",
    "        E += alpha*dE # update embeddings\n",
    "\n",
    "        yield E"
   ]
  },
  {
   "cell_type": "markdown",
   "metadata": {},
   "source": [
    "### Perform Skipgram Updates"
   ]
  },
  {
   "cell_type": "code",
   "execution_count": 670,
   "metadata": {
    "collapsed": false
   },
   "outputs": [
    {
     "name": "stdout",
     "output_type": "stream",
     "text": [
      "2 3 6\n"
     ]
    },
    {
     "data": {
      "text/plain": [
       "the      -5.182951\n",
       "cat      28.165448\n",
       "meows    10.679679\n",
       "and      14.371206\n",
       "a        -6.180290\n",
       "dog      -4.843158\n",
       "barks   -10.569050\n",
       "dtype: float64"
      ]
     },
     "execution_count": 670,
     "metadata": {},
     "output_type": "execute_result"
    }
   ],
   "source": [
    "next(update(E))"
   ]
  },
  {
   "cell_type": "markdown",
   "metadata": {},
   "source": [
    "\n",
    "\n",
    "\n",
    "\n",
    "\n",
    "\n",
    "\n",
    "\n",
    "\n",
    "\n",
    "\n",
    "\n",
    "\n",
    "\n",
    "\n",
    "\n",
    "\n",
    "\n",
    "\n",
    "\n",
    "\n",
    "\n",
    "\n",
    "\n",
    "\n",
    "\n",
    "\n",
    "\n",
    "\n",
    "\n",
    "\n",
    "\n"
   ]
  }
 ],
 "metadata": {
  "anaconda-cloud": {},
  "kernelspec": {
   "display_name": "Python [conda env:py27]",
   "language": "python",
   "name": "conda-env-py27-py"
  },
  "language_info": {
   "codemirror_mode": {
    "name": "ipython",
    "version": 2
   },
   "file_extension": ".py",
   "mimetype": "text/x-python",
   "name": "python",
   "nbconvert_exporter": "python",
   "pygments_lexer": "ipython2",
   "version": "2.7.12"
  }
 },
 "nbformat": 4,
 "nbformat_minor": 1
}
